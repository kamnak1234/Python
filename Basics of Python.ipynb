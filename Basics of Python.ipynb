{
 "cells": [
  {
   "cell_type": "markdown",
   "id": "d0717a2f",
   "metadata": {},
   "source": [
    "# Print Statement"
   ]
  },
  {
   "cell_type": "code",
   "execution_count": 4,
   "id": "8ff31972",
   "metadata": {},
   "outputs": [],
   "source": [
    "#Python Interpreted, Interactive, object oriented"
   ]
  },
  {
   "cell_type": "code",
   "execution_count": 5,
   "id": "7f07f042",
   "metadata": {},
   "outputs": [
    {
     "name": "stdout",
     "output_type": "stream",
     "text": [
      "Hello World\n"
     ]
    }
   ],
   "source": [
    "print('Hello World')"
   ]
  },
  {
   "cell_type": "code",
   "execution_count": 6,
   "id": "bbf65925",
   "metadata": {},
   "outputs": [
    {
     "name": "stdout",
     "output_type": "stream",
     "text": [
      "12345\n"
     ]
    }
   ],
   "source": [
    "print(12345)"
   ]
  },
  {
   "cell_type": "code",
   "execution_count": 7,
   "id": "24605be1",
   "metadata": {},
   "outputs": [
    {
     "name": "stdout",
     "output_type": "stream",
     "text": [
      "12345\n"
     ]
    }
   ],
   "source": [
    "print('12345')"
   ]
  },
  {
   "cell_type": "code",
   "execution_count": 10,
   "id": "407c168b",
   "metadata": {},
   "outputs": [
    {
     "name": "stdout",
     "output_type": "stream",
     "text": [
      "Hello, Python!\n"
     ]
    }
   ],
   "source": [
    "print (\"Hello, Python!\") #parenthesis important for printing the statements\n"
   ]
  },
  {
   "cell_type": "markdown",
   "id": "084e4294",
   "metadata": {},
   "source": [
    "# Python Identation"
   ]
  },
  {
   "cell_type": "code",
   "execution_count": 12,
   "id": "5679cce1",
   "metadata": {},
   "outputs": [
    {
     "name": "stdout",
     "output_type": "stream",
     "text": [
      "Five is greater than two!\n"
     ]
    }
   ],
   "source": [
    "if 5 > 2:\n",
    "    print(\"Five is greater than two!\")"
   ]
  },
  {
   "cell_type": "markdown",
   "id": "38721f22",
   "metadata": {},
   "source": [
    "if 5 > 2:\n",
    "print(\"Five is greater than two!\") \n",
    "#these will give indentation error"
   ]
  },
  {
   "cell_type": "markdown",
   "id": "35434be1",
   "metadata": {},
   "source": [
    "# Variables Declaration"
   ]
  },
  {
   "cell_type": "code",
   "execution_count": 56,
   "id": "f1553480",
   "metadata": {},
   "outputs": [],
   "source": [
    "x = 1\n",
    "y = 2"
   ]
  },
  {
   "cell_type": "code",
   "execution_count": 57,
   "id": "2bfa0cf2",
   "metadata": {},
   "outputs": [
    {
     "name": "stdout",
     "output_type": "stream",
     "text": [
      "1\n"
     ]
    }
   ],
   "source": [
    "print(x)"
   ]
  },
  {
   "cell_type": "code",
   "execution_count": 58,
   "id": "f716824f",
   "metadata": {},
   "outputs": [
    {
     "name": "stdout",
     "output_type": "stream",
     "text": [
      "2\n"
     ]
    }
   ],
   "source": [
    "print(y)"
   ]
  },
  {
   "cell_type": "code",
   "execution_count": 59,
   "id": "f022b533",
   "metadata": {},
   "outputs": [
    {
     "name": "stdout",
     "output_type": "stream",
     "text": [
      "x\n"
     ]
    }
   ],
   "source": [
    "print('x') # these will give output a because single quotes has passed in print statement"
   ]
  },
  {
   "cell_type": "code",
   "execution_count": 60,
   "id": "73ccd39e",
   "metadata": {},
   "outputs": [
    {
     "name": "stdout",
     "output_type": "stream",
     "text": [
      "a 1 Hello\n"
     ]
    }
   ],
   "source": [
    "print('a',x,'Hello')"
   ]
  },
  {
   "cell_type": "markdown",
   "id": "f51d943f",
   "metadata": {},
   "source": [
    "# Types of variables"
   ]
  },
  {
   "cell_type": "code",
   "execution_count": 24,
   "id": "6fad7401",
   "metadata": {},
   "outputs": [],
   "source": [
    "#Numerical Data Types  =  Integers.Float.Complex Numbers.Boolean.\n",
    "#string \n",
    "#list\n",
    "#tupule\n",
    "#dictionary"
   ]
  },
  {
   "cell_type": "code",
   "execution_count": 25,
   "id": "979507f0",
   "metadata": {},
   "outputs": [
    {
     "data": {
      "text/plain": [
       "int"
      ]
     },
     "execution_count": 25,
     "metadata": {},
     "output_type": "execute_result"
    }
   ],
   "source": [
    "#Numerical Data Types  =  Integers\n",
    "a = 12\n",
    "type(a)"
   ]
  },
  {
   "cell_type": "code",
   "execution_count": 26,
   "id": "1343611c",
   "metadata": {},
   "outputs": [
    {
     "data": {
      "text/plain": [
       "float"
      ]
     },
     "execution_count": 26,
     "metadata": {},
     "output_type": "execute_result"
    }
   ],
   "source": [
    "#Numerical Data Types  =  float\n",
    "b = 20.3\n",
    "type(b)"
   ]
  },
  {
   "cell_type": "code",
   "execution_count": 38,
   "id": "e6c7243e",
   "metadata": {},
   "outputs": [
    {
     "data": {
      "text/plain": [
       "complex"
      ]
     },
     "execution_count": 38,
     "metadata": {},
     "output_type": "execute_result"
    }
   ],
   "source": [
    "#Numerical Data Types  =  complex numbers\n",
    "c = (2e+3J)\n",
    "type(c)"
   ]
  },
  {
   "cell_type": "code",
   "execution_count": 35,
   "id": "43a3adcd",
   "metadata": {},
   "outputs": [
    {
     "data": {
      "text/plain": [
       "bool"
      ]
     },
     "execution_count": 35,
     "metadata": {},
     "output_type": "execute_result"
    }
   ],
   "source": [
    "#Numerical Data Types  =  Boolean\n",
    "d = True\n",
    "type(d)"
   ]
  },
  {
   "cell_type": "code",
   "execution_count": 40,
   "id": "0109fd16",
   "metadata": {},
   "outputs": [
    {
     "data": {
      "text/plain": [
       "str"
      ]
     },
     "execution_count": 40,
     "metadata": {},
     "output_type": "execute_result"
    }
   ],
   "source": [
    "#string\n",
    "e = 'kamini Nakte'\n",
    "type(e)"
   ]
  },
  {
   "cell_type": "code",
   "execution_count": 45,
   "id": "8fcaca6c",
   "metadata": {},
   "outputs": [
    {
     "data": {
      "text/plain": [
       "list"
      ]
     },
     "execution_count": 45,
     "metadata": {},
     "output_type": "execute_result"
    }
   ],
   "source": [
    "#List Cluster of all the daata,,,,Mutable\n",
    "f = ['kamini',21,2.2,3+3j]\n",
    "type(f)"
   ]
  },
  {
   "cell_type": "code",
   "execution_count": 46,
   "id": "7f9f0578",
   "metadata": {},
   "outputs": [
    {
     "data": {
      "text/plain": [
       "tuple"
      ]
     },
     "execution_count": 46,
     "metadata": {},
     "output_type": "execute_result"
    }
   ],
   "source": [
    "#Tupule Cluster of all the data,,,Notmutable\n",
    "g = ('kamini',21,2.2,3+3j)\n",
    "type(g)"
   ]
  },
  {
   "cell_type": "code",
   "execution_count": 50,
   "id": "c3a57984",
   "metadata": {},
   "outputs": [
    {
     "data": {
      "text/plain": [
       "dict"
      ]
     },
     "execution_count": 50,
     "metadata": {},
     "output_type": "execute_result"
    }
   ],
   "source": [
    "# Dictionary,,,Key value pair\n",
    "h = {'Name': 'Kamini'}\n",
    "type(h)"
   ]
  },
  {
   "cell_type": "markdown",
   "id": "1759aee3",
   "metadata": {},
   "source": [
    "# variables different variations"
   ]
  },
  {
   "cell_type": "code",
   "execution_count": 61,
   "id": "e6e0ce2e",
   "metadata": {},
   "outputs": [
    {
     "data": {
      "text/plain": [
       "1"
      ]
     },
     "execution_count": 61,
     "metadata": {},
     "output_type": "execute_result"
    }
   ],
   "source": [
    "x"
   ]
  },
  {
   "cell_type": "code",
   "execution_count": 62,
   "id": "e4fdc633",
   "metadata": {},
   "outputs": [
    {
     "data": {
      "text/plain": [
       "2"
      ]
     },
     "execution_count": 62,
     "metadata": {},
     "output_type": "execute_result"
    }
   ],
   "source": [
    "y"
   ]
  },
  {
   "cell_type": "code",
   "execution_count": 64,
   "id": "df93e7ff",
   "metadata": {},
   "outputs": [
    {
     "name": "stdout",
     "output_type": "stream",
     "text": [
      "1 2\n"
     ]
    }
   ],
   "source": [
    "print(x, y) "
   ]
  },
  {
   "cell_type": "code",
   "execution_count": 75,
   "id": "601eed3d",
   "metadata": {},
   "outputs": [],
   "source": [
    "p=q = 1 # Assigning single value to multiple variables"
   ]
  },
  {
   "cell_type": "code",
   "execution_count": 76,
   "id": "6401ccdf",
   "metadata": {},
   "outputs": [
    {
     "name": "stdout",
     "output_type": "stream",
     "text": [
      "1 1\n"
     ]
    }
   ],
   "source": [
    "print(p, q)"
   ]
  },
  {
   "cell_type": "code",
   "execution_count": 79,
   "id": "40347b2a",
   "metadata": {},
   "outputs": [],
   "source": [
    "p,q ='kamini','Nakte' #Assigning multiple values to multiple variables"
   ]
  },
  {
   "cell_type": "code",
   "execution_count": 80,
   "id": "25f173f1",
   "metadata": {},
   "outputs": [
    {
     "name": "stdout",
     "output_type": "stream",
     "text": [
      "kamini Nakte\n"
     ]
    }
   ],
   "source": [
    "print(p, q)"
   ]
  },
  {
   "cell_type": "code",
   "execution_count": 74,
   "id": "9b5efde7",
   "metadata": {},
   "outputs": [
    {
     "name": "stdout",
     "output_type": "stream",
     "text": [
      "Python is awesome\n"
     ]
    }
   ],
   "source": [
    "x = \"Python \"\n",
    "y = \"is \"\n",
    "z = \"awesome\"\n",
    "print(x + y + z) "
   ]
  },
  {
   "cell_type": "code",
   "execution_count": 84,
   "id": "6390be1b",
   "metadata": {},
   "outputs": [
    {
     "name": "stdout",
     "output_type": "stream",
     "text": [
      "15\n"
     ]
    }
   ],
   "source": [
    "# but not in case of numbers it will use as  a operators\n",
    "x = 5\n",
    "y = 10\n",
    "print(x + y)"
   ]
  },
  {
   "cell_type": "markdown",
   "id": "52909ef6",
   "metadata": {},
   "source": [
    "x = 5\n",
    "y = \"John\"\n",
    "print(x + y)\n",
    "#these will give error"
   ]
  },
  {
   "cell_type": "code",
   "execution_count": 104,
   "id": "cb724083",
   "metadata": {},
   "outputs": [
    {
     "name": "stdout",
     "output_type": "stream",
     "text": [
      "5 John\n"
     ]
    }
   ],
   "source": [
    "#we can do by these\n",
    "x = 5\n",
    "y = \"John\"\n",
    "print(x, y)"
   ]
  },
  {
   "cell_type": "code",
   "execution_count": 106,
   "id": "7629a278",
   "metadata": {},
   "outputs": [
    {
     "name": "stdout",
     "output_type": "stream",
     "text": [
      "5\n"
     ]
    },
    {
     "ename": "NameError",
     "evalue": "name 'x' is not defined",
     "output_type": "error",
     "traceback": [
      "\u001b[1;31m---------------------------------------------------------------------------\u001b[0m",
      "\u001b[1;31mNameError\u001b[0m                                 Traceback (most recent call last)",
      "\u001b[1;32m~\\AppData\\Local\\Temp/ipykernel_32404/1243259726.py\u001b[0m in \u001b[0;36m<module>\u001b[1;34m\u001b[0m\n\u001b[0;32m      2\u001b[0m \u001b[0mprint\u001b[0m\u001b[1;33m(\u001b[0m\u001b[0mx\u001b[0m\u001b[1;33m)\u001b[0m\u001b[1;33m\u001b[0m\u001b[1;33m\u001b[0m\u001b[0m\n\u001b[0;32m      3\u001b[0m \u001b[1;32mdel\u001b[0m \u001b[0mx\u001b[0m\u001b[1;33m\u001b[0m\u001b[1;33m\u001b[0m\u001b[0m\n\u001b[1;32m----> 4\u001b[1;33m \u001b[0mprint\u001b[0m\u001b[1;33m(\u001b[0m\u001b[0mx\u001b[0m\u001b[1;33m)\u001b[0m\u001b[1;33m\u001b[0m\u001b[1;33m\u001b[0m\u001b[0m\n\u001b[0m",
      "\u001b[1;31mNameError\u001b[0m: name 'x' is not defined"
     ]
    }
   ],
   "source": [
    "#deleting the varibale\n",
    "print(x)\n",
    "del x  \n",
    "print(x)"
   ]
  },
  {
   "cell_type": "code",
   "execution_count": null,
   "id": "c99e0959",
   "metadata": {},
   "outputs": [],
   "source": []
  },
  {
   "cell_type": "raw",
   "id": "9ac1f1f8",
   "metadata": {},
   "source": [
    "# Local variable ......It is not accessible outside the block"
   ]
  },
  {
   "cell_type": "code",
   "execution_count": 87,
   "id": "0230f68a",
   "metadata": {},
   "outputs": [],
   "source": [
    "def greet():\n",
    "    name = 'Steve'\n",
    "    print('Hello ', name)"
   ]
  },
  {
   "cell_type": "code",
   "execution_count": 88,
   "id": "eb67432a",
   "metadata": {},
   "outputs": [
    {
     "name": "stdout",
     "output_type": "stream",
     "text": [
      "Hello  Steve\n"
     ]
    }
   ],
   "source": [
    "greet() "
   ]
  },
  {
   "cell_type": "code",
   "execution_count": 89,
   "id": "027d8d79",
   "metadata": {},
   "outputs": [
    {
     "ename": "NameError",
     "evalue": "name 'name' is not defined",
     "output_type": "error",
     "traceback": [
      "\u001b[1;31m---------------------------------------------------------------------------\u001b[0m",
      "\u001b[1;31mNameError\u001b[0m                                 Traceback (most recent call last)",
      "\u001b[1;32m~\\AppData\\Local\\Temp/ipykernel_32404/3474671970.py\u001b[0m in \u001b[0;36m<module>\u001b[1;34m\u001b[0m\n\u001b[1;32m----> 1\u001b[1;33m \u001b[0mname\u001b[0m\u001b[1;33m\u001b[0m\u001b[1;33m\u001b[0m\u001b[0m\n\u001b[0m",
      "\u001b[1;31mNameError\u001b[0m: name 'name' is not defined"
     ]
    }
   ],
   "source": [
    "name"
   ]
  },
  {
   "cell_type": "raw",
   "id": "3dd6643b",
   "metadata": {},
   "source": [
    "# Global Variable"
   ]
  },
  {
   "cell_type": "code",
   "execution_count": 90,
   "id": "8c039a7b",
   "metadata": {},
   "outputs": [],
   "source": [
    "name='John'\n",
    "def greet():\n",
    "    print (\"Hello \", name)"
   ]
  },
  {
   "cell_type": "code",
   "execution_count": 91,
   "id": "5818f386",
   "metadata": {},
   "outputs": [
    {
     "name": "stdout",
     "output_type": "stream",
     "text": [
      "Hello  John\n"
     ]
    }
   ],
   "source": [
    "greet() "
   ]
  },
  {
   "cell_type": "code",
   "execution_count": 92,
   "id": "aae1852a",
   "metadata": {},
   "outputs": [
    {
     "data": {
      "text/plain": [
       "'John'"
      ]
     },
     "execution_count": 92,
     "metadata": {},
     "output_type": "execute_result"
    }
   ],
   "source": [
    "name"
   ]
  },
  {
   "cell_type": "markdown",
   "id": "caee5679",
   "metadata": {},
   "source": [
    "# taking input  from users"
   ]
  },
  {
   "cell_type": "code",
   "execution_count": 93,
   "id": "f473a6b5",
   "metadata": {},
   "outputs": [
    {
     "name": "stdout",
     "output_type": "stream",
     "text": [
      "Enter your name : kamini \n"
     ]
    }
   ],
   "source": [
    "a = input('Enter your name : ')"
   ]
  },
  {
   "cell_type": "code",
   "execution_count": 94,
   "id": "5eb8f8ef",
   "metadata": {},
   "outputs": [
    {
     "name": "stdout",
     "output_type": "stream",
     "text": [
      "Enter your name : 243\n"
     ]
    }
   ],
   "source": [
    "a = input('Enter your name : ') \n"
   ]
  },
  {
   "cell_type": "code",
   "execution_count": 99,
   "id": "bfda6d93",
   "metadata": {},
   "outputs": [
    {
     "name": "stdout",
     "output_type": "stream",
     "text": [
      "Enter your mobile number : 1234\n"
     ]
    }
   ],
   "source": [
    "#### sometimes if we want only integers from the users we use the keyword int\n",
    "a = int(input('Enter your mobile number : '))"
   ]
  },
  {
   "cell_type": "code",
   "execution_count": 100,
   "id": "69f7e5fd",
   "metadata": {},
   "outputs": [
    {
     "name": "stdout",
     "output_type": "stream",
     "text": [
      "Enter your mobile number : kamini\n"
     ]
    },
    {
     "ename": "ValueError",
     "evalue": "invalid literal for int() with base 10: 'kamini'",
     "output_type": "error",
     "traceback": [
      "\u001b[1;31m---------------------------------------------------------------------------\u001b[0m",
      "\u001b[1;31mValueError\u001b[0m                                Traceback (most recent call last)",
      "\u001b[1;32m~\\AppData\\Local\\Temp/ipykernel_32404/3242364517.py\u001b[0m in \u001b[0;36m<module>\u001b[1;34m\u001b[0m\n\u001b[1;32m----> 1\u001b[1;33m \u001b[0ma\u001b[0m \u001b[1;33m=\u001b[0m \u001b[0mint\u001b[0m\u001b[1;33m(\u001b[0m\u001b[0minput\u001b[0m\u001b[1;33m(\u001b[0m\u001b[1;34m'Enter your mobile number : '\u001b[0m\u001b[1;33m)\u001b[0m\u001b[1;33m)\u001b[0m\u001b[1;33m\u001b[0m\u001b[1;33m\u001b[0m\u001b[0m\n\u001b[0m",
      "\u001b[1;31mValueError\u001b[0m: invalid literal for int() with base 10: 'kamini'"
     ]
    }
   ],
   "source": [
    "a = int(input('Enter your mobile number : '))"
   ]
  },
  {
   "cell_type": "markdown",
   "id": "4731182e",
   "metadata": {},
   "source": [
    "# Basic Operators"
   ]
  },
  {
   "cell_type": "raw",
   "id": "ae610f8d",
   "metadata": {},
   "source": [
    "1. Arithmetic Operators "
   ]
  },
  {
   "cell_type": "code",
   "execution_count": 108,
   "id": "26438e71",
   "metadata": {},
   "outputs": [],
   "source": [
    "a = 10\n",
    "b = 20"
   ]
  },
  {
   "cell_type": "code",
   "execution_count": 109,
   "id": "7c0747f2",
   "metadata": {},
   "outputs": [
    {
     "name": "stdout",
     "output_type": "stream",
     "text": [
      "addition is :  30\n"
     ]
    }
   ],
   "source": [
    "#addition\n",
    "c = a+b\n",
    "print('addition is : ',c)"
   ]
  },
  {
   "cell_type": "code",
   "execution_count": 110,
   "id": "c42a36f0",
   "metadata": {},
   "outputs": [
    {
     "name": "stdout",
     "output_type": "stream",
     "text": [
      "addition is :  -10\n"
     ]
    }
   ],
   "source": [
    "#Sub\n",
    "c = a-b\n",
    "print('addition is : ',c)"
   ]
  },
  {
   "cell_type": "code",
   "execution_count": 111,
   "id": "138b2e68",
   "metadata": {},
   "outputs": [
    {
     "name": "stdout",
     "output_type": "stream",
     "text": [
      "addition is :  200\n"
     ]
    }
   ],
   "source": [
    "#Mul\n",
    "c = a*b\n",
    "print('addition is : ',c)"
   ]
  },
  {
   "cell_type": "code",
   "execution_count": 112,
   "id": "f14c1b66",
   "metadata": {},
   "outputs": [
    {
     "name": "stdout",
     "output_type": "stream",
     "text": [
      "addition is :  0.5\n"
     ]
    }
   ],
   "source": [
    "#div\n",
    "c = a/b\n",
    "print('addition is : ',c)"
   ]
  },
  {
   "cell_type": "code",
   "execution_count": 113,
   "id": "fbaec09b",
   "metadata": {},
   "outputs": [
    {
     "name": "stdout",
     "output_type": "stream",
     "text": [
      "addition is :  10\n"
     ]
    }
   ],
   "source": [
    "#Modulus  It returns the remainder\n",
    "c = a%b\n",
    "print('addition is : ',c)"
   ]
  },
  {
   "cell_type": "code",
   "execution_count": 114,
   "id": "ba255800",
   "metadata": {},
   "outputs": [
    {
     "name": "stdout",
     "output_type": "stream",
     "text": [
      "addition is :  100000000000000000000\n"
     ]
    }
   ],
   "source": [
    "#Exponentiation the exponent is referred to the number of times a number is multiplied by itself\n",
    "c = a**b\n",
    "print('addition is : ',c)"
   ]
  },
  {
   "cell_type": "code",
   "execution_count": 115,
   "id": "451293d4",
   "metadata": {},
   "outputs": [
    {
     "name": "stdout",
     "output_type": "stream",
     "text": [
      "addition is :  0\n"
     ]
    }
   ],
   "source": [
    "#Floor division an operation in Python that divides two numbers and rounds the result down to the nearest integer\n",
    "c = a//b\n",
    "print('addition is : ',c)"
   ]
  },
  {
   "cell_type": "raw",
   "id": "17a748af",
   "metadata": {},
   "source": [
    "2. comparison operators"
   ]
  },
  {
   "cell_type": "code",
   "execution_count": 116,
   "id": "60209e32",
   "metadata": {},
   "outputs": [],
   "source": [
    "a = 10\n",
    "b = 10 \n",
    "c = 20"
   ]
  },
  {
   "cell_type": "code",
   "execution_count": 121,
   "id": "bd99e6f1",
   "metadata": {},
   "outputs": [
    {
     "name": "stdout",
     "output_type": "stream",
     "text": [
      "True\n"
     ]
    }
   ],
   "source": [
    "#== equal to \n",
    "print(a==b)"
   ]
  },
  {
   "cell_type": "code",
   "execution_count": 122,
   "id": "2ca93e23",
   "metadata": {},
   "outputs": [
    {
     "name": "stdout",
     "output_type": "stream",
     "text": [
      "False\n"
     ]
    }
   ],
   "source": [
    "print(a==c)"
   ]
  },
  {
   "cell_type": "code",
   "execution_count": 123,
   "id": "9bd28ac5",
   "metadata": {},
   "outputs": [
    {
     "name": "stdout",
     "output_type": "stream",
     "text": [
      "False\n"
     ]
    }
   ],
   "source": [
    "#!= not equal to \n",
    "print(a!=b)"
   ]
  },
  {
   "cell_type": "code",
   "execution_count": 127,
   "id": "7cd6712e",
   "metadata": {},
   "outputs": [
    {
     "name": "stdout",
     "output_type": "stream",
     "text": [
      "False\n"
     ]
    }
   ],
   "source": [
    "#> greater than\n",
    "print(a>b)"
   ]
  },
  {
   "cell_type": "code",
   "execution_count": 129,
   "id": "29950f57",
   "metadata": {},
   "outputs": [
    {
     "name": "stdout",
     "output_type": "stream",
     "text": [
      "True\n"
     ]
    }
   ],
   "source": [
    "#> less than\n",
    "print(a<c)"
   ]
  },
  {
   "cell_type": "code",
   "execution_count": 130,
   "id": "e0375aad",
   "metadata": {},
   "outputs": [
    {
     "name": "stdout",
     "output_type": "stream",
     "text": [
      "True\n"
     ]
    }
   ],
   "source": [
    "#>= greater than equal to \n",
    "print(a>=b)"
   ]
  },
  {
   "cell_type": "code",
   "execution_count": 131,
   "id": "1e6f5699",
   "metadata": {},
   "outputs": [
    {
     "name": "stdout",
     "output_type": "stream",
     "text": [
      "True\n"
     ]
    }
   ],
   "source": [
    "#<= less than equal to \n",
    "print(a<=b)"
   ]
  },
  {
   "cell_type": "raw",
   "id": "5c0a29ad",
   "metadata": {},
   "source": [
    "3. Assignment operators"
   ]
  },
  {
   "cell_type": "code",
   "execution_count": 134,
   "id": "fbe7045f",
   "metadata": {},
   "outputs": [
    {
     "name": "stdout",
     "output_type": "stream",
     "text": [
      "Line 1 - Value of c is  31\n",
      "Line 2 - Value of c is  52\n",
      "Line 3 - Value of c is  1092\n",
      "Line 4 - Value of c is  52.0\n",
      "Line 5 - Value of c is  2\n",
      "Line 6 - Value of c is  2097152\n",
      "Line 7 - Value of c is  99864\n"
     ]
    }
   ],
   "source": [
    "a = 21\n",
    "b = 10\n",
    "c = 0\n",
    "\n",
    "c = a + b # 31\n",
    "print (\"Line 1 - Value of c is \", c)\n",
    "\n",
    "c += a # add and 31+21 = 52\n",
    "print (\"Line 2 - Value of c is \", c) \n",
    "\n",
    "c *= a # multiply and  52*21\n",
    "print (\"Line 3 - Value of c is \", c)\n",
    "\n",
    "c /= a # divide and  1092/21\n",
    "print (\"Line 4 - Value of c is \", c)\n",
    "\n",
    "c  = 2\n",
    "c %= a  \n",
    "print (\"Line 5 - Value of c is \", c)\n",
    "\n",
    "c **= a\n",
    "print (\"Line 6 - Value of c is \", c)\n",
    "\n",
    "c //= a\n",
    "print (\"Line 7 - Value of c is \", c)"
   ]
  },
  {
   "cell_type": "code",
   "execution_count": null,
   "id": "19ec2182",
   "metadata": {},
   "outputs": [],
   "source": [
    "3. Logical operators"
   ]
  },
  {
   "cell_type": "code",
   "execution_count": 135,
   "id": "897db605",
   "metadata": {},
   "outputs": [
    {
     "name": "stdout",
     "output_type": "stream",
     "text": [
      "True\n"
     ]
    }
   ],
   "source": [
    "# and\n",
    "x = 5\n",
    "\n",
    "print(x > 3 and x < 10)\n"
   ]
  },
  {
   "cell_type": "code",
   "execution_count": 138,
   "id": "f1fa766d",
   "metadata": {},
   "outputs": [
    {
     "name": "stdout",
     "output_type": "stream",
     "text": [
      "True\n"
     ]
    }
   ],
   "source": [
    "#or\n",
    "x = 5\n",
    "\n",
    "print(x > 3 or x < 4)"
   ]
  },
  {
   "cell_type": "code",
   "execution_count": 141,
   "id": "0f4783ca",
   "metadata": {},
   "outputs": [
    {
     "name": "stdout",
     "output_type": "stream",
     "text": [
      "False\n"
     ]
    }
   ],
   "source": [
    "#not\n",
    "x = 5\n",
    "\n",
    "print(not(x > 3 and x < 10)) #output will be true if there will be not\n"
   ]
  },
  {
   "cell_type": "raw",
   "id": "3cb2850d",
   "metadata": {},
   "source": [
    "4. membership operators "
   ]
  },
  {
   "cell_type": "code",
   "execution_count": 143,
   "id": "04e65e1d",
   "metadata": {},
   "outputs": [
    {
     "name": "stdout",
     "output_type": "stream",
     "text": [
      "True\n"
     ]
    }
   ],
   "source": [
    "# in\n",
    "x = [\"apple\", \"banana\"]\n",
    "\n",
    "print(\"banana\" in x)"
   ]
  },
  {
   "cell_type": "code",
   "execution_count": 144,
   "id": "61cf5f31",
   "metadata": {},
   "outputs": [
    {
     "name": "stdout",
     "output_type": "stream",
     "text": [
      "False\n"
     ]
    }
   ],
   "source": [
    "# not in\n",
    "x = [\"apple\", \"banana\"]\n",
    "\n",
    "print(\"banana\" not in x)"
   ]
  },
  {
   "cell_type": "raw",
   "id": "4797ec5e",
   "metadata": {},
   "source": [
    "5. Identity operator"
   ]
  },
  {
   "cell_type": "code",
   "execution_count": 145,
   "id": "e96b59fd",
   "metadata": {},
   "outputs": [
    {
     "name": "stdout",
     "output_type": "stream",
     "text": [
      "True\n",
      "False\n",
      "True\n"
     ]
    }
   ],
   "source": [
    "# is\n",
    "x = [\"apple\", \"banana\"]\n",
    "y = [\"apple\", \"banana\"]\n",
    "z = x\n",
    "\n",
    "print(x is z)\n",
    "\n",
    "# returns True because z is the same object as x\n",
    "\n",
    "print(x is y)\n",
    "\n",
    "# returns False because x is not the same object as y, even if they have the same content\n",
    "\n",
    "print(x == y)\n",
    "\n",
    "# to demonstrate the difference betweeen \"is\" and \"==\": this comparison returns True because x is equal to y\n"
   ]
  },
  {
   "cell_type": "code",
   "execution_count": 146,
   "id": "5f2b2a6f",
   "metadata": {},
   "outputs": [
    {
     "name": "stdout",
     "output_type": "stream",
     "text": [
      "False\n",
      "True\n",
      "False\n"
     ]
    }
   ],
   "source": [
    "# is not\n",
    "x = [\"apple\", \"banana\"]\n",
    "y = [\"apple\", \"banana\"]\n",
    "z = x\n",
    "\n",
    "print(x is not z)\n",
    "\n",
    "# returns False because z is the same object as x\n",
    "\n",
    "print(x is not y)\n",
    "\n",
    "# returns True because x is not the same object as y, even if they have the same content\n",
    "\n",
    "print(x != y)\n",
    "\n",
    "# to demonstrate the difference betweeen \"is not\" and \"!=\": this comparison returns False because x is equal to y\n"
   ]
  },
  {
   "cell_type": "markdown",
   "id": "160f2366",
   "metadata": {},
   "source": [
    "# strings"
   ]
  },
  {
   "cell_type": "code",
   "execution_count": 147,
   "id": "91bcac6c",
   "metadata": {},
   "outputs": [
    {
     "name": "stdout",
     "output_type": "stream",
     "text": [
      "kamininakte\n"
     ]
    }
   ],
   "source": [
    "a = 'kamininakte'\n",
    "print(a)"
   ]
  },
  {
   "cell_type": "code",
   "execution_count": 153,
   "id": "d517644c",
   "metadata": {},
   "outputs": [
    {
     "name": "stdout",
     "output_type": "stream",
     "text": [
      "etkaninimak\n"
     ]
    }
   ],
   "source": [
    "# Accessing  \n",
    "print(a[-1::-1])"
   ]
  },
  {
   "cell_type": "code",
   "execution_count": 161,
   "id": "183df7da",
   "metadata": {},
   "outputs": [
    {
     "name": "stdout",
     "output_type": "stream",
     "text": [
      "kamini yashwant\n",
      "Updated String :-  kamini Nakte\n"
     ]
    }
   ],
   "source": [
    "#update \n",
    "a = 'kamini yashwant'\n",
    "print(a)\n",
    "print (\"Updated String :- \", a[:7] + 'Nakte')"
   ]
  },
  {
   "cell_type": "code",
   "execution_count": 172,
   "id": "cd0a0f75",
   "metadata": {},
   "outputs": [
    {
     "name": "stdout",
     "output_type": "stream",
     "text": [
      "kamini  nakte\n"
     ]
    }
   ],
   "source": [
    "#concatenation +\n",
    "a='kamini  '\n",
    "b='nakte'\n",
    "print(a+b)"
   ]
  },
  {
   "cell_type": "code",
   "execution_count": 173,
   "id": "69e4107c",
   "metadata": {},
   "outputs": [
    {
     "name": "stdout",
     "output_type": "stream",
     "text": [
      "kamini  kamini  kamini  kamini  kamini  kamini  kamini  kamini  \n"
     ]
    }
   ],
   "source": [
    "#repitation *\n",
    "print(a*8)"
   ]
  },
  {
   "cell_type": "code",
   "execution_count": 174,
   "id": "601188da",
   "metadata": {},
   "outputs": [
    {
     "data": {
      "text/plain": [
       "'m'"
      ]
     },
     "execution_count": 174,
     "metadata": {},
     "output_type": "execute_result"
    }
   ],
   "source": [
    "# slice\n",
    "a[2]"
   ]
  },
  {
   "cell_type": "code",
   "execution_count": 175,
   "id": "f49572a3",
   "metadata": {},
   "outputs": [
    {
     "data": {
      "text/plain": [
       "'kamini'"
      ]
     },
     "execution_count": 175,
     "metadata": {},
     "output_type": "execute_result"
    }
   ],
   "source": [
    "#range slice\n",
    "a[0:6]"
   ]
  },
  {
   "cell_type": "code",
   "execution_count": 176,
   "id": "7a2cecf3",
   "metadata": {},
   "outputs": [
    {
     "name": "stdout",
     "output_type": "stream",
     "text": [
      "8\n"
     ]
    }
   ],
   "source": [
    "#len of string\n",
    "print(len(a))"
   ]
  },
  {
   "cell_type": "code",
   "execution_count": 181,
   "id": "8684abb9",
   "metadata": {},
   "outputs": [
    {
     "name": "stdout",
     "output_type": "stream",
     "text": [
      "True\n"
     ]
    }
   ],
   "source": [
    "#in\n",
    "a = 'hello'\n",
    "print('l' in a)"
   ]
  },
  {
   "cell_type": "code",
   "execution_count": 182,
   "id": "94ff4c55",
   "metadata": {},
   "outputs": [
    {
     "name": "stdout",
     "output_type": "stream",
     "text": [
      "True\n"
     ]
    }
   ],
   "source": [
    "#notin\n",
    "a = 'hello'\n",
    "print('l' in a)"
   ]
  },
  {
   "cell_type": "code",
   "execution_count": 184,
   "id": "9128c3b9",
   "metadata": {},
   "outputs": [
    {
     "name": "stdout",
     "output_type": "stream",
     "text": [
      "1 :  KAMINI\n"
     ]
    }
   ],
   "source": [
    "#lower case, upper case, isupper islower(check weather it is present or not), capitlize(only 1st word letter capitalize),title(all 1st letter capitalize)\n",
    "a = 'kamini'\n",
    "print('1 : ', a.upper())"
   ]
  },
  {
   "cell_type": "code",
   "execution_count": 186,
   "id": "ca6c8eda",
   "metadata": {},
   "outputs": [
    {
     "name": "stdout",
     "output_type": "stream",
     "text": [
      "2 :  kamini\n"
     ]
    }
   ],
   "source": [
    "a = 'KAMINI'\n",
    "print('2 : ', a.lower())"
   ]
  },
  {
   "cell_type": "code",
   "execution_count": 191,
   "id": "fc04475b",
   "metadata": {},
   "outputs": [
    {
     "name": "stdout",
     "output_type": "stream",
     "text": [
      "3 :  False\n"
     ]
    }
   ],
   "source": [
    "a = 'kamini'\n",
    "print('3 : ', a.isupper())"
   ]
  },
  {
   "cell_type": "code",
   "execution_count": 192,
   "id": "dffcf0cc",
   "metadata": {},
   "outputs": [
    {
     "name": "stdout",
     "output_type": "stream",
     "text": [
      "4 :  True\n"
     ]
    }
   ],
   "source": [
    "a = 'kamini'\n",
    "print('4 : ', a.islower())"
   ]
  },
  {
   "cell_type": "code",
   "execution_count": 194,
   "id": "c0cde020",
   "metadata": {},
   "outputs": [
    {
     "name": "stdout",
     "output_type": "stream",
     "text": [
      "5 :  Kamini\n"
     ]
    }
   ],
   "source": [
    "a = 'kamini'\n",
    "print('5 : ', a.capitalize())"
   ]
  },
  {
   "cell_type": "code",
   "execution_count": 197,
   "id": "02fb5dae",
   "metadata": {},
   "outputs": [
    {
     "name": "stdout",
     "output_type": "stream",
     "text": [
      "6 :  My Name Is Kamini Yashwant Nakte\n"
     ]
    }
   ],
   "source": [
    "a = 'my name is kamini yashwant nakte'# same as istitle()\n",
    "print('6 : ', a.title())"
   ]
  },
  {
   "cell_type": "code",
   "execution_count": 204,
   "id": "55730f01",
   "metadata": {},
   "outputs": [
    {
     "name": "stdout",
     "output_type": "stream",
     "text": [
      "7 :  True\n"
     ]
    }
   ],
   "source": [
    "a = '1234'\n",
    "print('7 : ', a.isdigit())"
   ]
  },
  {
   "cell_type": "code",
   "execution_count": 208,
   "id": "ff03456c",
   "metadata": {},
   "outputs": [
    {
     "name": "stdout",
     "output_type": "stream",
     "text": [
      "8 :  True\n"
     ]
    }
   ],
   "source": [
    "a = '1234'\n",
    "print('8 : ', a.isnumeric())"
   ]
  },
  {
   "cell_type": "code",
   "execution_count": 221,
   "id": "00814cda",
   "metadata": {},
   "outputs": [
    {
     "name": "stdout",
     "output_type": "stream",
     "text": [
      "kamini nakte\n"
     ]
    }
   ],
   "source": [
    "# The strip() method removes any whitespace from the beginning or the end\n",
    "a = \"  kamini nakte   \"\n",
    "print(a.strip())\n"
   ]
  },
  {
   "cell_type": "code",
   "execution_count": 215,
   "id": "30b6137b",
   "metadata": {},
   "outputs": [
    {
     "name": "stdout",
     "output_type": "stream",
     "text": [
      "Jamini naJte\n"
     ]
    }
   ],
   "source": [
    "# replace all over\n",
    "a = \"kamini nakte\"\n",
    "print(a.replace(\"k\", \"J\"))"
   ]
  },
  {
   "cell_type": "code",
   "execution_count": 218,
   "id": "fcf86ee1",
   "metadata": {},
   "outputs": [
    {
     "name": "stdout",
     "output_type": "stream",
     "text": [
      "['kamini', ' nakte ', ' was', ' an', ' innocent', ' girl']\n"
     ]
    }
   ],
   "source": [
    "#split \n",
    "a = \"kamini, nakte , was, an, innocent, girl\"\n",
    "print(a.split(\",\"))  "
   ]
  },
  {
   "cell_type": "code",
   "execution_count": 224,
   "id": "6b72c452",
   "metadata": {},
   "outputs": [],
   "source": [
    "#Escape Characters https://www.w3schools.com/python/python_strings_escape.asp"
   ]
  }
 ],
 "metadata": {
  "kernelspec": {
   "display_name": "Python 3",
   "language": "python",
   "name": "python3"
  },
  "language_info": {
   "codemirror_mode": {
    "name": "ipython",
    "version": 3
   },
   "file_extension": ".py",
   "mimetype": "text/x-python",
   "name": "python",
   "nbconvert_exporter": "python",
   "pygments_lexer": "ipython3",
   "version": "3.8.2"
  }
 },
 "nbformat": 4,
 "nbformat_minor": 5
}

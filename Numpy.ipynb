{
 "cells": [
  {
   "cell_type": "code",
   "execution_count": 1,
   "id": "45dd40ad",
   "metadata": {
    "scrolled": false
   },
   "outputs": [
    {
     "name": "stdout",
     "output_type": "stream",
     "text": [
      "Requirement already satisfied: numpy in c:\\python\\python38\\lib\\site-packages (1.21.2)\n",
      "Note: you may need to restart the kernel to use updated packages.\n"
     ]
    },
    {
     "name": "stderr",
     "output_type": "stream",
     "text": [
      "WARNING: You are using pip version 22.0.4; however, version 22.2.2 is available.\n",
      "You should consider upgrading via the 'C:\\Python\\Python38\\python.exe -m pip install --upgrade pip' command.\n"
     ]
    }
   ],
   "source": [
    "pip install numpy "
   ]
  },
  {
   "cell_type": "raw",
   "id": "431dfdcc",
   "metadata": {},
   "source": [
    "List is used to collect items that usually consist of elements of multiple data types. \n",
    "An array is also a vital component that collects several items of the same data type."
   ]
  },
  {
   "cell_type": "markdown",
   "id": "04187295",
   "metadata": {},
   "source": [
    "# Check dimension, shape(row and col, size(total number of element,and type of data in array))"
   ]
  },
  {
   "cell_type": "code",
   "execution_count": 3,
   "id": "6268a98a",
   "metadata": {},
   "outputs": [
    {
     "name": "stdout",
     "output_type": "stream",
     "text": [
      "[1 2 3 4 5 6]\n"
     ]
    }
   ],
   "source": [
    "# np. array support list \n",
    "import numpy as np \n",
    "array = np.array([1,2,3,4,5,6])\n",
    "print(array)"
   ]
  },
  {
   "cell_type": "code",
   "execution_count": 4,
   "id": "f52872e5",
   "metadata": {},
   "outputs": [
    {
     "name": "stdout",
     "output_type": "stream",
     "text": [
      "Array is of type:  <class 'numpy.ndarray'>\n"
     ]
    }
   ],
   "source": [
    "print(\"Array is of type: \", type(array))"
   ]
  },
  {
   "cell_type": "code",
   "execution_count": 5,
   "id": "2c3876ff",
   "metadata": {},
   "outputs": [
    {
     "name": "stdout",
     "output_type": "stream",
     "text": [
      "No. of dimensions:  1\n",
      "Shape of array:  (6,)\n",
      "Size of array:  6\n",
      "Array stores elements of type:  int32\n"
     ]
    }
   ],
   "source": [
    "# Printing array dimensions (axes)\n",
    "print(\"No. of dimensions: \", array.ndim)\n",
    " \n",
    "# Printing shape of array rows and column \n",
    "print(\"Shape of array: \", array.shape)\n",
    " \n",
    "# Printing size (total number of elements) of array\n",
    "print(\"Size of array: \", array.size)\n",
    " \n",
    "# Printing type of elements in array\n",
    "print(\"Array stores elements of type: \", array.dtype)"
   ]
  },
  {
   "cell_type": "markdown",
   "id": "41d1e78f",
   "metadata": {},
   "source": [
    "## Data types in numpy array"
   ]
  },
  {
   "cell_type": "raw",
   "id": "0dc017f8",
   "metadata": {},
   "source": [
    "strings - used to represent text data, the text is given under quote marks. e.g. \"ABCD\"\n",
    "integer - used to represent integer numbers. e.g. -1, -2, -3\n",
    "float - used to represent real numbers. e.g. 1.2, 42.42\n",
    "boolean - used to represent True or False.\n",
    "complex - used to represent complex numbers. e.g. 1.0 + 2.0j, 1.5 + 2.5j"
   ]
  },
  {
   "cell_type": "code",
   "execution_count": 6,
   "id": "d2a6f531",
   "metadata": {},
   "outputs": [
    {
     "name": "stdout",
     "output_type": "stream",
     "text": [
      "[1 2 3 4 5 6]\n"
     ]
    }
   ],
   "source": [
    "import numpy as np \n",
    "array = np.array([1,2,3,4,5,6], dtype= None, copy = True, order = None, subok = False, ndmin = 0)\n",
    "print(array)"
   ]
  },
  {
   "cell_type": "code",
   "execution_count": 7,
   "id": "024bf1fd",
   "metadata": {},
   "outputs": [
    {
     "name": "stdout",
     "output_type": "stream",
     "text": [
      "[[1.+0.j 2.+0.j 3.+0.j 4.+0.j 5.+0.j 6.+0.j]]\n"
     ]
    }
   ],
   "source": [
    "import numpy as np\n",
    "\n",
    "array = np.array([1,2,3,4,5,6], dtype= complex, copy = True, order = None , subok = False, ndmin = 2 )\n",
    "print(array)"
   ]
  },
  {
   "cell_type": "code",
   "execution_count": 8,
   "id": "39aa5c29",
   "metadata": {},
   "outputs": [
    {
     "name": "stdout",
     "output_type": "stream",
     "text": [
      "[(b'nakte', 1.7, 12) (b'yashwant', 1.9, 11) (b'kamini', 3.3, 10)]\n",
      "[(b'kamini', 3.3, 10) (b'yashwant', 1.9, 11) (b'nakte', 1.7, 12)]\n"
     ]
    }
   ],
   "source": [
    "# when setting pattern of  data in array :\n",
    "a = [('name', 'S10'), ('height', float), ('age', int)]\n",
    "b = [('kamini', 3.3, 10), ('yashwant', 1.9, 11),('nakte', 1.7, 12)]\n",
    "c = np.array(b, dtype=a)\n",
    "d = np.sort(c, order='height') # asending order by height\n",
    "print(d)\n",
    "e = np.sort(c, order=['age','name']) # asending order by height\n",
    "print(e)"
   ]
  },
  {
   "cell_type": "raw",
   "id": "72b50459",
   "metadata": {},
   "source": [
    "'b' − boolean\n",
    "'i' − (signed) integer\n",
    "'u' − unsigned integer\n",
    "'f' − floating-point\n",
    "'c' − complex-floating point\n",
    "'m' − timedelta\n",
    "'M' − datetime\n",
    "'O' − (Python) objects\n",
    "'S', 'a' − (byte-)string\n",
    "'U' − Unicode\n",
    "'V' − raw data (void)"
   ]
  },
  {
   "cell_type": "raw",
   "id": "aff08cb1",
   "metadata": {},
   "source": [
    "# datatype that support numpy \n",
    "1 bool_\n",
    "Boolean (True or False) stored as a byte\n",
    "\n",
    "2\tint_\n",
    "Default integer type (same as C long; normally either int64 or int32)\n",
    "\n",
    "3\tintc\n",
    "Identical to C int (normally int32 or int64)\n",
    "\n",
    "4\tintp\n",
    "Integer used for indexing (same as C ssize_t; normally either int32 or int64)\n",
    "\n",
    "5\tint8\n",
    "Byte (-128 to 127)\n",
    "\n",
    "6\tint16\n",
    "Integer (-32768 to 32767)\n",
    "\n",
    "7\tint32\n",
    "Integer (-2147483648 to 2147483647)\n",
    "\n",
    "8\tint64\n",
    "Integer (-9223372036854775808 to 9223372036854775807)\n",
    "\n",
    "9\tuint8\n",
    "Unsigned integer (0 to 255)\n",
    "\n",
    "10\tuint16\n",
    "Unsigned integer (0 to 65535)\n",
    "\n",
    "11\tuint32\n",
    "Unsigned integer (0 to 4294967295)\n",
    "\n",
    "12\tuint64\n",
    "Unsigned integer (0 to 18446744073709551615)\n",
    "\n",
    "13\tfloat_\n",
    "Shorthand for float64\n",
    "\n",
    "14\tfloat16\n",
    "Half precision float: sign bit, 5 bits exponent, 10 bits mantissa\n",
    "\n",
    "15\tfloat32\n",
    "Single precision float: sign bit, 8 bits exponent, 23 bits mantissa\n",
    "\n",
    "16\tfloat64\n",
    "Double precision float: sign bit, 11 bits exponent, 52 bits mantissa\n",
    "\n",
    "17\tcomplex_\n",
    "Shorthand for complex128\n",
    "\n",
    "18\tcomplex64\n",
    "Complex number, represented by two 32-bit floats (real and imaginary components)\n",
    "\n",
    "19\tcomplex128\n",
    "Complex number, represented by two 64-bit floats (real and imaginary components)"
   ]
  },
  {
   "cell_type": "markdown",
   "id": "b1bb0ccd",
   "metadata": {},
   "source": [
    "# Mathematical Operators"
   ]
  },
  {
   "cell_type": "code",
   "execution_count": 9,
   "id": "17e05410",
   "metadata": {
    "scrolled": true
   },
   "outputs": [
    {
     "name": "stdout",
     "output_type": "stream",
     "text": [
      "Adding 1 to every element: [2 3 6 4]\n",
      "Subtracting 3 from each element: [-2 -1  2  0]\n",
      "Multiplying each element by 10: [10 20 50 30]\n",
      "Squaring each element: [ 1  4 25  9]\n",
      "Doubled each element of original array: [ 2  4 10  6] \n",
      "\n",
      "Another Pattern is Transpose of array\n",
      "original array is : \n",
      " [[ 1  2  3  4]\n",
      " [ 5  6  7  8]\n",
      " [ 9 10 11 12]]\n",
      "original array is : \n",
      " [[ 1  5  9]\n",
      " [ 2  6 10]\n",
      " [ 3  7 11]\n",
      " [ 4  8 12]]\n"
     ]
    }
   ],
   "source": [
    "# Mathematical opertaion that support numpy\n",
    "a = np.array([1, 2, 5, 3])\n",
    " \n",
    "# add 1 to every element\n",
    "print (\"Adding 1 to every element:\", a+1)\n",
    " \n",
    "# subtract 3 from each element\n",
    "print (\"Subtracting 3 from each element:\", a-3)\n",
    " \n",
    "# multiply each element by 10\n",
    "print (\"Multiplying each element by 10:\", a*10)\n",
    " \n",
    "# square each element\n",
    "print (\"Squaring each element:\", a**2)\n",
    " \n",
    "# modify existing array that is multiply by 2\n",
    "a *= 2\n",
    "print (\"Doubled each element of original array:\", a,'\\n')\n",
    "\n",
    "print('Another Pattern is Transpose of array')\n",
    "v = np.array([[1,2,3,4],[5,6,7,8],[9,10,11,12]])\n",
    "print('original array is : \\n',v)\n",
    "print('original array is : \\n',v.T) # row become column and column become row"
   ]
  },
  {
   "cell_type": "markdown",
   "id": "c17a361e",
   "metadata": {},
   "source": [
    "row wise and column wise operations"
   ]
  },
  {
   "cell_type": "code",
   "execution_count": 10,
   "id": "f95324f7",
   "metadata": {
    "scrolled": true
   },
   "outputs": [
    {
     "name": "stdout",
     "output_type": "stream",
     "text": [
      "Largest element is: 9\n",
      "Row-wise maximum elements: [6 7 9]\n",
      "Column-wise minimum elements: [1 1 2]\n",
      "Sum of all array elements: 38\n",
      "Cumulative sum along each row:\n",
      " [[ 1  6 12]\n",
      " [ 4 11 13]\n",
      " [ 3  4 13]]\n"
     ]
    }
   ],
   "source": [
    "import numpy as np\n",
    " \n",
    "arr = np.array([[1, 5, 6],\n",
    "                [4, 7, 2],\n",
    "                [3, 1, 9]])\n",
    " \n",
    "# maximum element of array\n",
    "print (\"Largest element is:\", arr.max())\n",
    "print (\"Row-wise maximum elements:\",\n",
    "                    arr.max(axis = 1))\n",
    " \n",
    "# minimum element of array\n",
    "print (\"Column-wise minimum elements:\",\n",
    "                        arr.min(axis = 0))\n",
    " \n",
    "# sum of array elements\n",
    "print (\"Sum of all array elements:\",\n",
    "                            arr.sum())\n",
    " \n",
    "# cumulative sum along each row\n",
    "print (\"Cumulative sum along each row:\\n\",\n",
    "                        arr.cumsum(axis = 1))\n"
   ]
  },
  {
   "cell_type": "markdown",
   "id": "1d97c9d8",
   "metadata": {},
   "source": [
    "Cumulative finding with respect to axis"
   ]
  },
  {
   "cell_type": "code",
   "execution_count": 11,
   "id": "479af070",
   "metadata": {},
   "outputs": [
    {
     "name": "stdout",
     "output_type": "stream",
     "text": [
      "Dimension of an array : \n",
      " 2\n",
      "Cumulative is row wise: \n",
      " [[ 1  3  6]\n",
      " [ 4  9 15]\n",
      " [ 7 15 24]]\n",
      "Cumulative is col wise : \n",
      " [[ 1  2  3]\n",
      " [ 5  7  9]\n",
      " [12 15 18]]\n"
     ]
    }
   ],
   "source": [
    "arr1 = np.array([[1, 2, 3],\n",
    "                [4, 5, 6],\n",
    "                [7, 8, 9]])\n",
    "print('Dimension of an array : \\n',arr1.ndim)\n",
    "print('Cumulative is row wise: \\n',arr1.cumsum(axis = 1))\n",
    "print('Cumulative is col wise : \\n',arr1.cumsum(axis = 0))"
   ]
  },
  {
   "cell_type": "code",
   "execution_count": 12,
   "id": "0d52d24f",
   "metadata": {
    "scrolled": true
   },
   "outputs": [
    {
     "name": "stdout",
     "output_type": "stream",
     "text": [
      "Array sum:\n",
      " [[5 5]\n",
      " [5 5]]\n",
      "Array multiplication:\n",
      " [[4 6]\n",
      " [6 4]]\n"
     ]
    }
   ],
   "source": [
    "# binary operatorsd in numpy\n",
    "a = np.array([[1, 2],\n",
    "            [3, 4]])\n",
    "b = np.array([[4, 3],\n",
    "            [2, 1]])\n",
    " \n",
    "# add arrays\n",
    "print (\"Array sum:\\n\", a + b)\n",
    " \n",
    "# multiply arrays (elementwise multiplication)\n",
    "print (\"Array multiplication:\\n\", a*b)\n",
    " \n",
    " "
   ]
  },
  {
   "cell_type": "markdown",
   "id": "1ce52dab",
   "metadata": {},
   "source": [
    "# Array Attribute"
   ]
  },
  {
   "cell_type": "code",
   "execution_count": 13,
   "id": "810998c5",
   "metadata": {
    "scrolled": true
   },
   "outputs": [
    {
     "name": "stdout",
     "output_type": "stream",
     "text": [
      "[[1 2 3 4]\n",
      " [2 3 4 5]\n",
      " [3 4 5 6]]\n"
     ]
    }
   ],
   "source": [
    "import numpy as np \n",
    "arr = np.array([[1,2,3,4],[2,3,4,5],[3,4,5,6]])\n",
    "print(arr)"
   ]
  },
  {
   "cell_type": "markdown",
   "id": "5e262538",
   "metadata": {},
   "source": [
    " check the shape of array"
   ]
  },
  {
   "cell_type": "code",
   "execution_count": 14,
   "id": "adc5e1eb",
   "metadata": {
    "scrolled": true
   },
   "outputs": [
    {
     "data": {
      "text/plain": [
       "(3, 4)"
      ]
     },
     "execution_count": 14,
     "metadata": {},
     "output_type": "execute_result"
    }
   ],
   "source": [
    "arr.shape"
   ]
  },
  {
   "cell_type": "markdown",
   "id": "d6379345",
   "metadata": {},
   "source": [
    "reset the shape of array"
   ]
  },
  {
   "cell_type": "code",
   "execution_count": 15,
   "id": "eeae719a",
   "metadata": {},
   "outputs": [
    {
     "data": {
      "text/plain": [
       "array([[1, 2],\n",
       "       [3, 4],\n",
       "       [2, 3],\n",
       "       [4, 5],\n",
       "       [3, 4],\n",
       "       [5, 6]])"
      ]
     },
     "execution_count": 15,
     "metadata": {},
     "output_type": "execute_result"
    }
   ],
   "source": [
    "arr.shape = (6,2) # row and column\n",
    "arr"
   ]
  },
  {
   "cell_type": "markdown",
   "id": "40fa5ef2",
   "metadata": {},
   "source": [
    "Dimension"
   ]
  },
  {
   "cell_type": "code",
   "execution_count": 16,
   "id": "7da9e10e",
   "metadata": {},
   "outputs": [
    {
     "data": {
      "text/plain": [
       "2"
      ]
     },
     "execution_count": 16,
     "metadata": {},
     "output_type": "execute_result"
    }
   ],
   "source": [
    "arr.ndim"
   ]
  },
  {
   "cell_type": "code",
   "execution_count": 17,
   "id": "7dde9f66",
   "metadata": {},
   "outputs": [
    {
     "name": "stdout",
     "output_type": "stream",
     "text": [
      "40\n"
     ]
    }
   ],
   "source": [
    "#zero dimensional\n",
    "zero = np.array(40)\n",
    "print(zero)"
   ]
  },
  {
   "cell_type": "code",
   "execution_count": 18,
   "id": "5a3526dd",
   "metadata": {},
   "outputs": [
    {
     "name": "stdout",
     "output_type": "stream",
     "text": [
      "[1 2 3 4 5]\n"
     ]
    }
   ],
   "source": [
    "#one dimensional\n",
    "one = np.array([1, 2, 3, 4, 5])\n",
    "print(one)\n"
   ]
  },
  {
   "cell_type": "code",
   "execution_count": 19,
   "id": "e526174b",
   "metadata": {},
   "outputs": [
    {
     "name": "stdout",
     "output_type": "stream",
     "text": [
      "[[1 2 3 4]\n",
      " [5 6 7 8]]\n"
     ]
    }
   ],
   "source": [
    "#two dimensional\n",
    "two = np.array([[1, 2, 3, 4],[5,6,7,8]])\n",
    "print(two)\n"
   ]
  },
  {
   "cell_type": "code",
   "execution_count": 91,
   "id": "bd06b0bd",
   "metadata": {
    "scrolled": true
   },
   "outputs": [
    {
     "name": "stdout",
     "output_type": "stream",
     "text": [
      "[[[ 1  2  3  4  5]\n",
      "  [ 2  3  4  5  6]]\n",
      "\n",
      " [[ 9  7  6  5  4]\n",
      "  [ 5  4  3  2  7]]\n",
      "\n",
      " [[70 98 66 44 90]\n",
      "  [ 9  4  3  2  1]]]\n"
     ]
    }
   ],
   "source": [
    "three = np.array([[[1,2,3,4,5],[2,3,4,5,6]],[[9,7,6,5,4],[5,4,3,2,7]],[[70,98,66,44,90],[9,4,3,2,1]]])\n",
    "print(three)"
   ]
  },
  {
   "cell_type": "code",
   "execution_count": 92,
   "id": "2b601d5b",
   "metadata": {},
   "outputs": [
    {
     "name": "stdout",
     "output_type": "stream",
     "text": [
      "3\n"
     ]
    }
   ],
   "source": [
    "print(three.ndim)"
   ]
  },
  {
   "cell_type": "code",
   "execution_count": 20,
   "id": "183144a8",
   "metadata": {},
   "outputs": [
    {
     "name": "stdout",
     "output_type": "stream",
     "text": [
      "[[[ 1  2  3  4]\n",
      "  [ 5  6  7  8]\n",
      "  [ 2  4  8 10]]]\n"
     ]
    }
   ],
   "source": [
    "#three dimensional\n",
    "three = np.array([[[1, 2, 3, 4],[5,6,7,8],[2,4,8,10]]])\n",
    "print(three)\n"
   ]
  },
  {
   "cell_type": "code",
   "execution_count": 21,
   "id": "3c6544ef",
   "metadata": {},
   "outputs": [
    {
     "name": "stdout",
     "output_type": "stream",
     "text": [
      "1\n",
      "2\n",
      "3\n"
     ]
    }
   ],
   "source": [
    "# checking number of dimension:\n",
    "print(one.ndim)\n",
    "print(two.ndim)\n",
    "print(three.ndim)"
   ]
  },
  {
   "cell_type": "code",
   "execution_count": 96,
   "id": "694b6858",
   "metadata": {},
   "outputs": [
    {
     "name": "stdout",
     "output_type": "stream",
     "text": [
      "[[[[ 1  2  3  4]\n",
      "   [ 5  6  7  8]\n",
      "   [ 2  4  8 10]]]\n",
      "\n",
      "\n",
      " [[[ 1  2  3  4]\n",
      "   [ 5  6  7  8]\n",
      "   [ 2  4  8 10]]]]\n",
      "4\n"
     ]
    }
   ],
   "source": [
    "four = np.array(\n",
    "    [\n",
    "        [\n",
    "            [[1, 2, 3, 4],[5,6,7,8],[2,4,8,10]]\n",
    "        ],\n",
    "        [\n",
    "            [[1, 2, 3, 4],[5,6,7,8],[2,4,8,10]]\n",
    "        ]\n",
    "    ]\n",
    ")\n",
    "\n",
    "print(four)\n",
    "print(four.ndim)"
   ]
  },
  {
   "cell_type": "code",
   "execution_count": 22,
   "id": "98be2f11",
   "metadata": {
    "scrolled": true
   },
   "outputs": [
    {
     "name": "stdout",
     "output_type": "stream",
     "text": [
      "[[[[[[1 2 3 4]\n",
      "     [4 5 7 8]\n",
      "     [3 4 5 6]\n",
      "     [7 2 7 3]]]]]]\n",
      "number of dimensions : 6\n"
     ]
    }
   ],
   "source": [
    "# creating higher dimension within array \n",
    "five = np.array([[1, 2, 3, 4],[4,5,7,8],[3,4,5,6],[7,2,7,3]], ndmin=6)\n",
    "print(five)\n",
    "print('number of dimensions :', five.ndim)"
   ]
  },
  {
   "cell_type": "markdown",
   "id": "b6c27358",
   "metadata": {},
   "source": [
    "reshape"
   ]
  },
  {
   "cell_type": "code",
   "execution_count": 23,
   "id": "6a944361",
   "metadata": {},
   "outputs": [
    {
     "name": "stdout",
     "output_type": "stream",
     "text": [
      "[[[1]\n",
      "  [2]\n",
      "  [3]\n",
      "  [4]]\n",
      "\n",
      " [[4]\n",
      "  [5]\n",
      "  [7]\n",
      "  [8]]\n",
      "\n",
      " [[3]\n",
      "  [4]\n",
      "  [5]\n",
      "  [6]]\n",
      "\n",
      " [[7]\n",
      "  [2]\n",
      "  [7]\n",
      "  [3]]]\n",
      "[[[1 2]\n",
      "  [3 4]\n",
      "  [4 5]\n",
      "  [7 8]]\n",
      "\n",
      " [[3 4]\n",
      "  [5 6]\n",
      "  [7 2]\n",
      "  [7 3]]]\n"
     ]
    }
   ],
   "source": [
    "five = np.array([[1, 2, 3, 4],[4,5,7,8],[3,4,5,6],[7,2,7,3]])\n",
    "print(five.reshape(4,4,1))\n",
    "print(five.reshape(2,4,2)) #row*col*dimension should = no of element in array"
   ]
  },
  {
   "cell_type": "markdown",
   "id": "e4ccbbf7",
   "metadata": {},
   "source": [
    "itemsize"
   ]
  },
  {
   "cell_type": "code",
   "execution_count": 24,
   "id": "a3cb87e7",
   "metadata": {},
   "outputs": [
    {
     "name": "stdout",
     "output_type": "stream",
     "text": [
      "4\n"
     ]
    }
   ],
   "source": [
    "print(five.itemsize)"
   ]
  },
  {
   "cell_type": "markdown",
   "id": "3f9769ae",
   "metadata": {},
   "source": [
    "flags:"
   ]
  },
  {
   "cell_type": "raw",
   "id": "9599603f",
   "metadata": {},
   "source": [
    "1 C_CONTIGUOUS (C) The data is in a single, C-style contiguous segment\n",
    "\n",
    "2 F_CONTIGUOUS (F) The data is in a single, Fortran-style contiguous segment\n",
    "\n",
    "3 OWNDATA (O) The array owns the memory it uses or borrows it from another object\n",
    "\n",
    "4 WRITEABLE (W) The data area can be written to. Setting this to False locks the data, making it read-only\n",
    "\n",
    "5 ALIGNED (A) The data and all elements are aligned appropriately for the hardware\n",
    "\n",
    "6 UPDATEIFCOPY (U) This array is a copy of some other array. \n",
    "When this array is deallocated, the base array will be updated with the contents of this array"
   ]
  },
  {
   "cell_type": "code",
   "execution_count": 25,
   "id": "60674203",
   "metadata": {},
   "outputs": [
    {
     "name": "stdout",
     "output_type": "stream",
     "text": [
      "  C_CONTIGUOUS : True\n",
      "  F_CONTIGUOUS : False\n",
      "  OWNDATA : True\n",
      "  WRITEABLE : True\n",
      "  ALIGNED : True\n",
      "  WRITEBACKIFCOPY : False\n",
      "  UPDATEIFCOPY : False\n",
      "\n"
     ]
    }
   ],
   "source": [
    "print(three.flags)"
   ]
  },
  {
   "cell_type": "markdown",
   "id": "ed13d1cb",
   "metadata": {},
   "source": [
    "# Array creation"
   ]
  },
  {
   "cell_type": "markdown",
   "id": "33fefe36",
   "metadata": {},
   "source": [
    "1. numpy.empty"
   ]
  },
  {
   "cell_type": "code",
   "execution_count": 57,
   "id": "fae82e34",
   "metadata": {},
   "outputs": [],
   "source": [
    "#numpy.empty(shape, dtype = float, order = 'C')\n",
    "#Order'C' for C-style row-major array, 'F' for FORTRAN style column-major array"
   ]
  },
  {
   "cell_type": "code",
   "execution_count": 61,
   "id": "4914477c",
   "metadata": {},
   "outputs": [
    {
     "name": "stdout",
     "output_type": "stream",
     "text": [
      "[[1310069616          0]\n",
      " [       406          1]\n",
      " [         0 1701999215]]\n"
     ]
    }
   ],
   "source": [
    "import numpy as np \n",
    "v = np.empty([3,2], dtype=int,order ='F')\n",
    "print(v)"
   ]
  },
  {
   "cell_type": "code",
   "execution_count": 62,
   "id": "b6c2d66e",
   "metadata": {},
   "outputs": [
    {
     "name": "stdout",
     "output_type": "stream",
     "text": [
      "[[ 1310069616           0]\n",
      " [        406           1]\n",
      " [          0 -2147483648]]\n"
     ]
    }
   ],
   "source": [
    "import numpy as np \n",
    "t = np.empty([3,2], dtype=int,order ='F')\n",
    "print(t)"
   ]
  },
  {
   "cell_type": "code",
   "execution_count": 35,
   "id": "96b330d8",
   "metadata": {},
   "outputs": [
    {
     "name": "stdout",
     "output_type": "stream",
     "text": [
      "[[0. 0.]\n",
      " [0. 0.]\n",
      " [0. 0.]]\n"
     ]
    }
   ],
   "source": [
    "import numpy as np \n",
    "x= np.empty([3,2], dtype=float,order = 'C')\n",
    "print(x)"
   ]
  },
  {
   "cell_type": "markdown",
   "id": "da5c13c5",
   "metadata": {},
   "source": [
    "2. np.zeros"
   ]
  },
  {
   "cell_type": "code",
   "execution_count": 40,
   "id": "7088f163",
   "metadata": {},
   "outputs": [
    {
     "name": "stdout",
     "output_type": "stream",
     "text": [
      "[[0 0]\n",
      " [0 0]\n",
      " [0 0]]\n"
     ]
    }
   ],
   "source": [
    "y = np.zeros([3,2], dtype =int)\n",
    "print(y)"
   ]
  },
  {
   "cell_type": "code",
   "execution_count": 41,
   "id": "e9f3486a",
   "metadata": {},
   "outputs": [
    {
     "name": "stdout",
     "output_type": "stream",
     "text": [
      "[[0. 0.]\n",
      " [0. 0.]\n",
      " [0. 0.]]\n"
     ]
    }
   ],
   "source": [
    "y = np.zeros([3,2], dtype =float)\n",
    "print(y)"
   ]
  },
  {
   "cell_type": "code",
   "execution_count": 42,
   "id": "a3686ead",
   "metadata": {},
   "outputs": [
    {
     "name": "stdout",
     "output_type": "stream",
     "text": [
      "[[0.+0.j 0.+0.j]\n",
      " [0.+0.j 0.+0.j]\n",
      " [0.+0.j 0.+0.j]]\n"
     ]
    }
   ],
   "source": [
    "y = np.zeros([3,2], dtype =complex)\n",
    "print(y)"
   ]
  },
  {
   "cell_type": "code",
   "execution_count": 45,
   "id": "26cac783",
   "metadata": {
    "scrolled": true
   },
   "outputs": [
    {
     "name": "stdout",
     "output_type": "stream",
     "text": [
      "[[0 0]\n",
      " [0 0]\n",
      " [0 0]]\n"
     ]
    }
   ],
   "source": [
    "y = np.zeros([3,2], dtype ='uint16')\n",
    "print(y)"
   ]
  },
  {
   "cell_type": "code",
   "execution_count": 47,
   "id": "f0601ef1",
   "metadata": {},
   "outputs": [
    {
     "name": "stdout",
     "output_type": "stream",
     "text": [
      "[0 0 0 0 0]\n"
     ]
    }
   ],
   "source": [
    "y = np.zeros(5, dtype =int)\n",
    "print(y)"
   ]
  },
  {
   "cell_type": "markdown",
   "id": "87a7c850",
   "metadata": {},
   "source": [
    " 3. np.ones"
   ]
  },
  {
   "cell_type": "code",
   "execution_count": 48,
   "id": "0e00b121",
   "metadata": {},
   "outputs": [
    {
     "name": "stdout",
     "output_type": "stream",
     "text": [
      "[1 1 1 1 1]\n"
     ]
    }
   ],
   "source": [
    "z = np.ones(5, dtype =int)\n",
    "print(z)"
   ]
  },
  {
   "cell_type": "code",
   "execution_count": 50,
   "id": "31512a16",
   "metadata": {},
   "outputs": [
    {
     "name": "stdout",
     "output_type": "stream",
     "text": [
      "[[1 1]\n",
      " [1 1]]\n"
     ]
    }
   ],
   "source": [
    "import numpy as np \n",
    "x = np.ones([2,2], dtype = int) \n",
    "print (x)"
   ]
  },
  {
   "cell_type": "code",
   "execution_count": 63,
   "id": "36a389dc",
   "metadata": {},
   "outputs": [],
   "source": [
    "# no any other for higher numbers "
   ]
  },
  {
   "cell_type": "code",
   "execution_count": 67,
   "id": "7ad40ade",
   "metadata": {},
   "outputs": [
    {
     "name": "stdout",
     "output_type": "stream",
     "text": [
      "[1 2 3 4]\n"
     ]
    }
   ],
   "source": [
    "#array from list\n",
    "import numpy as np \n",
    "x = [1,2,3,4]\n",
    "y = np.array(x, dtype=int)\n",
    "print(y)"
   ]
  },
  {
   "cell_type": "code",
   "execution_count": 72,
   "id": "1b146348",
   "metadata": {},
   "outputs": [
    {
     "name": "stdout",
     "output_type": "stream",
     "text": [
      "[1. 2. 3. 4.]\n",
      "[1.+0.j 2.+0.j 3.+0.j 4.+0.j]\n"
     ]
    }
   ],
   "source": [
    "#array from tuple\n",
    "import numpy as np \n",
    "x = (1,2,3,4)\n",
    "y = np.array(x, dtype=float)\n",
    "print(y)\n",
    "z = np.array(x, dtype=complex)\n",
    "print(z)"
   ]
  },
  {
   "cell_type": "code",
   "execution_count": 79,
   "id": "5f92270b",
   "metadata": {},
   "outputs": [
    {
     "name": "stdout",
     "output_type": "stream",
     "text": [
      "[(1, 2, 3, 4, 5) (6, 7, 8, 9)]\n"
     ]
    },
    {
     "name": "stderr",
     "output_type": "stream",
     "text": [
      "C:\\Users\\KAMINI\\AppData\\Local\\Temp/ipykernel_28084/1932978848.py:3: VisibleDeprecationWarning: Creating an ndarray from ragged nested sequences (which is a list-or-tuple of lists-or-tuples-or ndarrays with different lengths or shapes) is deprecated. If you meant to do this, you must specify 'dtype=object' when creating the ndarray.\n",
      "  y = np.array(x)\n"
     ]
    }
   ],
   "source": [
    "# array from tupule in list \n",
    "x = [(1,2,3,4,5),(6,7,8,9)]\n",
    "y = np.array(x)\n",
    "print(y)"
   ]
  },
  {
   "cell_type": "raw",
   "id": "a91c1ba1",
   "metadata": {},
   "source": [
    "# array from numerical range\n",
    "numpy.arange(start, stop, step, dtype)\n",
    "1\tstart\n",
    "The start of an interval. If omitted, defaults to 0\n",
    "2\tstop\n",
    "The end of an interval (not including this number)\n",
    "3\tstep\n",
    "Spacing between values, default is 1\n",
    "4\tdtype\n",
    "Data type of resulting ndarray. If not given, data type of input is used"
   ]
  },
  {
   "cell_type": "code",
   "execution_count": 97,
   "id": "bb0b73b7",
   "metadata": {},
   "outputs": [
    {
     "name": "stdout",
     "output_type": "stream",
     "text": [
      "[0 1 2]\n"
     ]
    }
   ],
   "source": [
    "x = np.arange(3)\n",
    "print(x)"
   ]
  },
  {
   "cell_type": "code",
   "execution_count": 100,
   "id": "19018141",
   "metadata": {},
   "outputs": [
    {
     "name": "stdout",
     "output_type": "stream",
     "text": [
      "[0. 1. 2. 3. 4. 5. 6. 7. 8. 9.]\n"
     ]
    }
   ],
   "source": [
    "# setting data type\n",
    "y = np.arange(10, dtype = float)\n",
    "print(y)"
   ]
  },
  {
   "cell_type": "code",
   "execution_count": 101,
   "id": "9dce97d7",
   "metadata": {},
   "outputs": [
    {
     "name": "stdout",
     "output_type": "stream",
     "text": [
      "[10 12 14 16 18 20]\n"
     ]
    }
   ],
   "source": [
    "# start stop and step parameter \n",
    "y = np.arange(10,21,2)\n",
    "print(y)"
   ]
  },
  {
   "cell_type": "raw",
   "id": "2d330298",
   "metadata": {},
   "source": [
    "numpy.linspace\n",
    "This function is similar to arange() function. In this function, instead of step size,the number of \n",
    "evenly spaced values between the interval is specified. \n",
    "The usage of this function is as follows −\n",
    "numpy.linspace(start, stop, num, endpoint, retstep, dtype)\n",
    "1 start\n",
    "The starting value of the sequence\n",
    "2 stop\n",
    "The end value of the sequence, included in the sequence if endpoint set to true\n",
    "3 num\n",
    "The number of evenly spaced samples to be generated. Default is 50\n",
    "4 endpoint\n",
    "True by default, hence the stop value is included in the sequence. If false, it is not included\n",
    "5 retstep\n",
    "If true, returns samples and step between the consecutive numbers\n",
    "6 dtype\n",
    "Data type of output ndarray"
   ]
  },
  {
   "cell_type": "markdown",
   "id": "2325de6f",
   "metadata": {},
   "source": [
    "# array indexing and slicing "
   ]
  },
  {
   "cell_type": "code",
   "execution_count": 110,
   "id": "dda6dfa0",
   "metadata": {},
   "outputs": [
    {
     "name": "stdout",
     "output_type": "stream",
     "text": [
      "[1 2 3 4 5 6]\n",
      "1\n"
     ]
    }
   ],
   "source": [
    "one = np.array([1,2,3,4,5,6])\n",
    "print(one)\n",
    "print(one.ndim)"
   ]
  },
  {
   "cell_type": "code",
   "execution_count": 117,
   "id": "ded0cc56",
   "metadata": {},
   "outputs": [
    {
     "name": "stdout",
     "output_type": "stream",
     "text": [
      "[[1 2 3]\n",
      " [6 7 8]]\n",
      "2\n"
     ]
    }
   ],
   "source": [
    "two = np.array([[1,2,3],[6,7,8]])\n",
    "print(two)\n",
    "print(two.ndim)"
   ]
  },
  {
   "cell_type": "code",
   "execution_count": 122,
   "id": "2f138061",
   "metadata": {},
   "outputs": [
    {
     "name": "stdout",
     "output_type": "stream",
     "text": [
      "[[[ 1  2  3  4]\n",
      "  [ 5  6  7  8]]\n",
      "\n",
      " [[ 9 10 11 12]\n",
      "  [13 14 15 16]]\n",
      "\n",
      " [[17 18 19 20]\n",
      "  [21 22 23 24]]]\n",
      "3\n"
     ]
    }
   ],
   "source": [
    "three = np.array([[[1,2,3,4],[5,6,7,8]],[[9,10,11,12],[13,14,15,16]],[[17,18,19,20],[21,22,23,24]]])\n",
    "print(three)\n",
    "print(three.ndim)"
   ]
  },
  {
   "cell_type": "code",
   "execution_count": 127,
   "id": "3de03110",
   "metadata": {},
   "outputs": [
    {
     "name": "stdout",
     "output_type": "stream",
     "text": [
      "[[[[ 1  2  3  4]\n",
      "   [ 5  6  7  8]]\n",
      "\n",
      "  [[ 9 10 11 12]\n",
      "   [13 14 15 16]]\n",
      "\n",
      "  [[17 18 19 20]\n",
      "   [21 22 23 24]]\n",
      "\n",
      "  [[10 20 30 40]\n",
      "   [91 92 93 94]]]]\n",
      "4\n"
     ]
    }
   ],
   "source": [
    "four = np.array([[[[1,2,3,4],[5,6,7,8]],[[9,10,11,12],[13,14,15,16]],[[17,18,19,20],[21,22,23,24]],[[10,20,30,40],[91,92,93,94]]]])\n",
    "print(four)\n",
    "print(four.ndim)"
   ]
  },
  {
   "cell_type": "code",
   "execution_count": 130,
   "id": "f24eea5c",
   "metadata": {},
   "outputs": [
    {
     "name": "stdout",
     "output_type": "stream",
     "text": [
      "2\n",
      "[6 7 8]\n",
      "[[ 9 10 11 12]\n",
      " [13 14 15 16]]\n"
     ]
    }
   ],
   "source": [
    "print(one[1])\n",
    "print(two[1])\n",
    "print(three[1])\n"
   ]
  },
  {
   "cell_type": "code",
   "execution_count": 131,
   "id": "1e676568",
   "metadata": {},
   "outputs": [
    {
     "data": {
      "text/plain": [
       "array([[1, 2, 3],\n",
       "       [6, 7, 8]])"
      ]
     },
     "execution_count": 131,
     "metadata": {},
     "output_type": "execute_result"
    }
   ],
   "source": [
    "two "
   ]
  },
  {
   "cell_type": "code",
   "execution_count": 132,
   "id": "1f247380",
   "metadata": {},
   "outputs": [
    {
     "data": {
      "text/plain": [
       "2"
      ]
     },
     "execution_count": 132,
     "metadata": {},
     "output_type": "execute_result"
    }
   ],
   "source": [
    "two[0,1] # zero is row and 1 is element "
   ]
  },
  {
   "cell_type": "code",
   "execution_count": 134,
   "id": "bf5bbbd7",
   "metadata": {},
   "outputs": [
    {
     "data": {
      "text/plain": [
       "array([[[ 1,  2,  3,  4],\n",
       "        [ 5,  6,  7,  8]],\n",
       "\n",
       "       [[ 9, 10, 11, 12],\n",
       "        [13, 14, 15, 16]],\n",
       "\n",
       "       [[17, 18, 19, 20],\n",
       "        [21, 22, 23, 24]]])"
      ]
     },
     "execution_count": 134,
     "metadata": {},
     "output_type": "execute_result"
    }
   ],
   "source": [
    "three"
   ]
  },
  {
   "cell_type": "code",
   "execution_count": 135,
   "id": "026212f2",
   "metadata": {},
   "outputs": [
    {
     "name": "stdout",
     "output_type": "stream",
     "text": [
      "19\n"
     ]
    }
   ],
   "source": [
    "print(three[2,0,2])"
   ]
  },
  {
   "cell_type": "code",
   "execution_count": 136,
   "id": "a0827ae4",
   "metadata": {},
   "outputs": [
    {
     "data": {
      "text/plain": [
       "array([[[[ 1,  2,  3,  4],\n",
       "         [ 5,  6,  7,  8]],\n",
       "\n",
       "        [[ 9, 10, 11, 12],\n",
       "         [13, 14, 15, 16]],\n",
       "\n",
       "        [[17, 18, 19, 20],\n",
       "         [21, 22, 23, 24]],\n",
       "\n",
       "        [[10, 20, 30, 40],\n",
       "         [91, 92, 93, 94]]]])"
      ]
     },
     "execution_count": 136,
     "metadata": {},
     "output_type": "execute_result"
    }
   ],
   "source": [
    "four"
   ]
  },
  {
   "cell_type": "code",
   "execution_count": 144,
   "id": "7de072be",
   "metadata": {},
   "outputs": [
    {
     "ename": "IndexError",
     "evalue": "index 1 is out of bounds for axis 0 with size 1",
     "output_type": "error",
     "traceback": [
      "\u001b[1;31m---------------------------------------------------------------------------\u001b[0m",
      "\u001b[1;31mIndexError\u001b[0m                                Traceback (most recent call last)",
      "\u001b[1;32m~\\AppData\\Local\\Temp/ipykernel_28084/4095393470.py\u001b[0m in \u001b[0;36m<module>\u001b[1;34m\u001b[0m\n\u001b[0;32m      1\u001b[0m \u001b[1;31m# 23 from 4 dimensional\u001b[0m\u001b[1;33m\u001b[0m\u001b[1;33m\u001b[0m\u001b[1;33m\u001b[0m\u001b[0m\n\u001b[1;32m----> 2\u001b[1;33m \u001b[0mfour\u001b[0m\u001b[1;33m[\u001b[0m\u001b[1;36m1\u001b[0m\u001b[1;33m]\u001b[0m\u001b[1;33m\u001b[0m\u001b[1;33m\u001b[0m\u001b[0m\n\u001b[0m",
      "\u001b[1;31mIndexError\u001b[0m: index 1 is out of bounds for axis 0 with size 1"
     ]
    }
   ],
   "source": [
    "# 23 from 4 dimensional\n",
    "#four[1]"
   ]
  },
  {
   "cell_type": "code",
   "execution_count": 145,
   "id": "f19d9d9c",
   "metadata": {},
   "outputs": [
    {
     "data": {
      "text/plain": [
       "array([6, 5, 4, 3, 2, 1])"
      ]
     },
     "execution_count": 145,
     "metadata": {},
     "output_type": "execute_result"
    }
   ],
   "source": [
    "# reversing\n",
    "one[::-1]"
   ]
  },
  {
   "cell_type": "code",
   "execution_count": 148,
   "id": "3dac9759",
   "metadata": {},
   "outputs": [
    {
     "data": {
      "text/plain": [
       "array([2, 3, 4, 5])"
      ]
     },
     "execution_count": 148,
     "metadata": {},
     "output_type": "execute_result"
    }
   ],
   "source": [
    "one[1:5] # start and stop"
   ]
  },
  {
   "cell_type": "code",
   "execution_count": 157,
   "id": "29d99111",
   "metadata": {
    "scrolled": true
   },
   "outputs": [
    {
     "data": {
      "text/plain": [
       "array([3, 2, 1])"
      ]
     },
     "execution_count": 157,
     "metadata": {},
     "output_type": "execute_result"
    }
   ],
   "source": [
    "two[0,::-1]"
   ]
  },
  {
   "cell_type": "code",
   "execution_count": 151,
   "id": "b34f4367",
   "metadata": {},
   "outputs": [
    {
     "data": {
      "text/plain": [
       "array([[1, 2, 3],\n",
       "       [6, 7, 8]])"
      ]
     },
     "execution_count": 151,
     "metadata": {},
     "output_type": "execute_result"
    }
   ],
   "source": [
    "two"
   ]
  },
  {
   "cell_type": "code",
   "execution_count": 161,
   "id": "d62a1980",
   "metadata": {},
   "outputs": [
    {
     "data": {
      "text/plain": [
       "7"
      ]
     },
     "execution_count": 161,
     "metadata": {},
     "output_type": "execute_result"
    }
   ],
   "source": [
    "two[1,1]"
   ]
  },
  {
   "cell_type": "code",
   "execution_count": 155,
   "id": "d692febe",
   "metadata": {},
   "outputs": [
    {
     "data": {
      "text/plain": [
       "array([6, 8])"
      ]
     },
     "execution_count": 155,
     "metadata": {},
     "output_type": "execute_result"
    }
   ],
   "source": [
    "two[1,0:3:2] # 1 index use comma then other parameters"
   ]
  },
  {
   "cell_type": "code",
   "execution_count": 158,
   "id": "94ff3b7a",
   "metadata": {},
   "outputs": [
    {
     "data": {
      "text/plain": [
       "array([[[ 1,  2,  3,  4],\n",
       "        [ 5,  6,  7,  8]],\n",
       "\n",
       "       [[ 9, 10, 11, 12],\n",
       "        [13, 14, 15, 16]],\n",
       "\n",
       "       [[17, 18, 19, 20],\n",
       "        [21, 22, 23, 24]]])"
      ]
     },
     "execution_count": 158,
     "metadata": {},
     "output_type": "execute_result"
    }
   ],
   "source": [
    "three"
   ]
  },
  {
   "cell_type": "code",
   "execution_count": 159,
   "id": "d3769c5b",
   "metadata": {},
   "outputs": [
    {
     "data": {
      "text/plain": [
       "array([21, 23])"
      ]
     },
     "execution_count": 159,
     "metadata": {},
     "output_type": "execute_result"
    }
   ],
   "source": [
    "three[2,1,0:3:2] # 2 index 1 2nd row then parametrs"
   ]
  },
  {
   "cell_type": "code",
   "execution_count": 160,
   "id": "1551eab6",
   "metadata": {
    "scrolled": true
   },
   "outputs": [
    {
     "data": {
      "text/plain": [
       "array([24, 23, 22, 21])"
      ]
     },
     "execution_count": 160,
     "metadata": {},
     "output_type": "execute_result"
    }
   ],
   "source": [
    "three[2,1,::-1]"
   ]
  },
  {
   "cell_type": "code",
   "execution_count": 163,
   "id": "42517575",
   "metadata": {},
   "outputs": [
    {
     "data": {
      "text/plain": [
       "array([1, 2, 3, 4, 5, 6])"
      ]
     },
     "execution_count": 163,
     "metadata": {},
     "output_type": "execute_result"
    }
   ],
   "source": [
    "one"
   ]
  },
  {
   "cell_type": "code",
   "execution_count": 162,
   "id": "27ac0bac",
   "metadata": {},
   "outputs": [
    {
     "name": "stdout",
     "output_type": "stream",
     "text": [
      "7\n"
     ]
    }
   ],
   "source": [
    "# add the element by passing the indexing parameters \n",
    "print(one[2] + one[3])"
   ]
  },
  {
   "cell_type": "code",
   "execution_count": 167,
   "id": "8a7babbb",
   "metadata": {},
   "outputs": [
    {
     "name": "stdout",
     "output_type": "stream",
     "text": [
      "[2 4 6 8]\n"
     ]
    }
   ],
   "source": [
    " import numpy as np \n",
    "a = np.arange(10) \n",
    "print (a[2::2])"
   ]
  },
  {
   "cell_type": "markdown",
   "id": "5d2663a2",
   "metadata": {},
   "source": [
    "# Numpy broadcasting:"
   ]
  },
  {
   "cell_type": "markdown",
   "id": "bc6a2336",
   "metadata": {},
   "source": [
    "The term broadcasting refers to the ability of NumPy to treat arrays of different shapes \n",
    "during arithmetic operations"
   ]
  },
  {
   "cell_type": "code",
   "execution_count": 169,
   "id": "ccecc7ad",
   "metadata": {},
   "outputs": [
    {
     "name": "stdout",
     "output_type": "stream",
     "text": [
      "Adiition of two array :  [ 1  4  9 16 25 36 49 64 81]\n"
     ]
    }
   ],
   "source": [
    "a = np.array([1,2,3,4,5,6,7,8,9])\n",
    "b = np.array([1,2,3,4,5,6,7,8,9])\n",
    "c = a*b\n",
    "print('Addition of two array : ',c)"
   ]
  },
  {
   "cell_type": "code",
   "execution_count": 174,
   "id": "8d911ab7",
   "metadata": {},
   "outputs": [
    {
     "name": "stdout",
     "output_type": "stream",
     "text": [
      "Addition of two array :   \n",
      " [[10 20 30 40 50 60 70 80 90]\n",
      " [ 0  0  0  0  0  0  0  0  0]\n",
      " [10 20 20 20 20 20 20 20 20]]\n"
     ]
    }
   ],
   "source": [
    "a = np.array([[1,2,3,4,5,6,7,8,9],[0,0,0,0,0,0,0,0,0],[1,2,2,2,2,2,2,2,2]])\n",
    "b = np.array([10])\n",
    "c = a*b\n",
    "print('Addition of two array :   \\n', c)"
   ]
  },
  {
   "cell_type": "code",
   "execution_count": 178,
   "id": "65fd206d",
   "metadata": {},
   "outputs": [
    {
     "name": "stdout",
     "output_type": "stream",
     "text": [
      "First array: \n",
      "[[ 0.  0.  0.]\n",
      " [10. 10. 10.]\n",
      " [20. 20. 20.]\n",
      " [30. 30. 30.]]\n",
      "\n",
      "\n",
      "Second array:\n",
      "[1. 2. 3.]\n",
      "\n",
      "\n",
      "First Array + Second Array\n",
      "[[ 1.  2.  3.]\n",
      " [11. 12. 13.]\n",
      " [21. 22. 23.]\n",
      " [31. 32. 33.]]\n"
     ]
    }
   ],
   "source": [
    "import numpy as np \n",
    "a = np.array([[0.0,0.0,0.0],[10.0,10.0,10.0],[20.0,20.0,20.0],[30.0,30.0,30.0]]) \n",
    "b = np.array([1.0,2.0,3.0])  \n",
    "   \n",
    "print ('First array: ')\n",
    "print (a) \n",
    "print ('\\n')  \n",
    "   \n",
    "print ('Second array:')\n",
    "print (b)\n",
    "print ('\\n')   \n",
    "   \n",
    "print ('First Array + Second Array' )\n",
    "print (a + b)"
   ]
  },
  {
   "cell_type": "markdown",
   "id": "4ba868d2",
   "metadata": {},
   "source": [
    "# numpy copy :"
   ]
  },
  {
   "cell_type": "code",
   "execution_count": 181,
   "id": "cbb72570",
   "metadata": {},
   "outputs": [
    {
     "name": "stdout",
     "output_type": "stream",
     "text": [
      "Original :  [1, 2, 3, 4, 5]\n",
      "Edited :  [100, 2, 3, 4, 5]\n",
      "Checking for list 2 : [100, 2, 3, 4, 5]\n"
     ]
    }
   ],
   "source": [
    "list1 = [1,2,3,4,5]\n",
    "list2 = list1\n",
    "print(\"Original : \",list2)\n",
    "list1[0]=100\n",
    "print(\"Edited : \",list1)\n",
    "print(\"Checking for list 2 :\",list2)"
   ]
  }
 ],
 "metadata": {
  "kernelspec": {
   "display_name": "Python 3",
   "language": "python",
   "name": "python3"
  },
  "language_info": {
   "codemirror_mode": {
    "name": "ipython",
    "version": 3
   },
   "file_extension": ".py",
   "mimetype": "text/x-python",
   "name": "python",
   "nbconvert_exporter": "python",
   "pygments_lexer": "ipython3",
   "version": "3.8.2"
  }
 },
 "nbformat": 4,
 "nbformat_minor": 5
}

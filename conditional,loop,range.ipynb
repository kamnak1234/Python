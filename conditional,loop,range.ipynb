{
 "cells": [
  {
   "cell_type": "markdown",
   "id": "4224cb09",
   "metadata": {},
   "source": [
    "# Conditional statement / Decision making statement \n"
   ]
  },
  {
   "cell_type": "markdown",
   "id": "dc901ee8",
   "metadata": {},
   "source": [
    " 1. if "
   ]
  },
  {
   "cell_type": "code",
   "execution_count": 2,
   "id": "bd761b11",
   "metadata": {},
   "outputs": [
    {
     "name": "stdout",
     "output_type": "stream",
     "text": [
      "b is greater than a\n"
     ]
    }
   ],
   "source": [
    "a = 14\n",
    "b = 33\n",
    "if b > a:\n",
    "  print(\"b is greater than a\")\n"
   ]
  },
  {
   "cell_type": "markdown",
   "id": "9978d86a",
   "metadata": {},
   "source": [
    " 2. if else"
   ]
  },
  {
   "cell_type": "code",
   "execution_count": 3,
   "id": "1948b571",
   "metadata": {},
   "outputs": [
    {
     "name": "stdout",
     "output_type": "stream",
     "text": [
      "a and b are equal\n"
     ]
    }
   ],
   "source": [
    "a = 33\n",
    "b = 33\n",
    "if b > a:\n",
    "  print(\"b is greater than a\")\n",
    "else:\n",
    "  print(\"a and b are equal\")"
   ]
  },
  {
   "cell_type": "code",
   "execution_count": 4,
   "id": "684e1933",
   "metadata": {},
   "outputs": [
    {
     "name": "stdout",
     "output_type": "stream",
     "text": [
      "it is not 100\n"
     ]
    }
   ],
   "source": [
    "a = 1000\n",
    "\n",
    "if a == 100:\n",
    "    print(\"it is 100\")\n",
    "else:\n",
    "    print(\"it is not 100\")"
   ]
  },
  {
   "cell_type": "code",
   "execution_count": 6,
   "id": "0847d188",
   "metadata": {},
   "outputs": [
    {
     "name": "stdout",
     "output_type": "stream",
     "text": [
      "it is true\n"
     ]
    }
   ],
   "source": [
    "x = True\n",
    "if  x:\n",
    "    print('it is true')\n",
    "else:\n",
    "    print('it is false')"
   ]
  },
  {
   "cell_type": "code",
   "execution_count": 10,
   "id": "c55f91ea",
   "metadata": {},
   "outputs": [
    {
     "name": "stdout",
     "output_type": "stream",
     "text": [
      "a is Helloworld\n"
     ]
    }
   ],
   "source": [
    "a = 'hello world'\n",
    "if a == 'hello world':\n",
    "    print('a is Helloworld')\n",
    "else:\n",
    "    print('a is not Hellworld')"
   ]
  },
  {
   "cell_type": "code",
   "execution_count": 9,
   "id": "318799d8",
   "metadata": {},
   "outputs": [
    {
     "name": "stdout",
     "output_type": "stream",
     "text": [
      "a is 100\n",
      "100\n"
     ]
    }
   ],
   "source": [
    "a = 100\n",
    "if a == 100:\n",
    "    print('a is 100')\n",
    "    a = 100\n",
    "else:\n",
    "    print('a is not 100')\n",
    "    a= 20\n",
    "print(a)"
   ]
  },
  {
   "cell_type": "markdown",
   "id": "06a849d0",
   "metadata": {},
   "source": [
    " 3. if elif else"
   ]
  },
  {
   "cell_type": "code",
   "execution_count": 11,
   "id": "39638218",
   "metadata": {},
   "outputs": [
    {
     "name": "stdout",
     "output_type": "stream",
     "text": [
      "Divisible by 2\n"
     ]
    }
   ],
   "source": [
    "x = 20\n",
    "if x % 2==0:\n",
    "    print('Divisible by 2')\n",
    "elif x % 3 ==0:\n",
    "    print('Divisible by 3')\n",
    "elif x % 5 ==0:\n",
    "    print('Divisible by 5')\n",
    "elif x % 7 ==0:\n",
    "    print('Divisible by 7')\n",
    "else:\n",
    "    print('random')"
   ]
  },
  {
   "cell_type": "code",
   "execution_count": 19,
   "id": "554075a2",
   "metadata": {},
   "outputs": [
    {
     "name": "stdout",
     "output_type": "stream",
     "text": [
      "a is greater than b\n"
     ]
    }
   ],
   "source": [
    "a = 100\n",
    "b = 90\n",
    "if b > a:\n",
    "    print(\"b is greater than a\")\n",
    "elif a == b:\n",
    "    print(\"a and b are equal\")\n",
    "else:\n",
    "    print(\"a is greater than b\")"
   ]
  },
  {
   "cell_type": "markdown",
   "id": "05ef1e95",
   "metadata": {},
   "source": [
    "4. nested"
   ]
  },
  {
   "cell_type": "code",
   "execution_count": 23,
   "id": "eddbf357",
   "metadata": {},
   "outputs": [
    {
     "name": "stdout",
     "output_type": "stream",
     "text": [
      "Divisible by 2\n",
      "Also Divisible by 5\n"
     ]
    }
   ],
   "source": [
    "# check if a variable is divisible by 2 \n",
    "# check if it divisble by 5\n",
    "# if not check it is divisible by 3\n",
    "#use only if/elif/else\n",
    "#x % 10 == 0 \n",
    "x = 20\n",
    "if x % 2==0:\n",
    "    print('Divisible by 2')\n",
    "    if x % 5 == 0:\n",
    "        print('Also Divisible by 5') \n",
    "\n",
    "elif  x % 3 == 0:\n",
    "    print('Divisible by 3')"
   ]
  },
  {
   "cell_type": "code",
   "execution_count": 26,
   "id": "a345d7f4",
   "metadata": {},
   "outputs": [
    {
     "name": "stdout",
     "output_type": "stream",
     "text": [
      "Divisible by 2\n",
      "Also Divisible by 5\n"
     ]
    }
   ],
   "source": [
    "#other method \n",
    "x = 20\n",
    "if (x % 2==0) and  (x % 5 == 0):\n",
    "    print('Divisible by 2')\n",
    "    print('Also Divisible by 5') \n",
    "elif  x % 3 == 0:\n",
    "    print('Divisible by 3')\n",
    "    "
   ]
  },
  {
   "cell_type": "code",
   "execution_count": 25,
   "id": "45942c30",
   "metadata": {},
   "outputs": [
    {
     "name": "stdout",
     "output_type": "stream",
     "text": [
      "Divisible by 2\n"
     ]
    }
   ],
   "source": [
    "x = 14\n",
    "\n",
    "if x % 5==0:\n",
    "    print('Divisible by 5')\n",
    "    if x % 10 == 0:\n",
    "        print('Also Divisible by 15') \n",
    "\n",
    "elif  x % 2 == 0:\n",
    "    print('Divisible by 2')"
   ]
  },
  {
   "cell_type": "markdown",
   "id": "1b6fb58d",
   "metadata": {},
   "source": [
    "# loops"
   ]
  },
  {
   "cell_type": "raw",
   "id": "003f5971",
   "metadata": {},
   "source": [
    "1. for "
   ]
  },
  {
   "cell_type": "code",
   "execution_count": 43,
   "id": "de7da288",
   "metadata": {},
   "outputs": [
    {
     "name": "stdout",
     "output_type": "stream",
     "text": [
      "apple\n",
      "banana\n",
      "cherry\n"
     ]
    }
   ],
   "source": [
    "fruits = [\"apple\", \"banana\", \"cherry\"]\n",
    "for x in fruits:\n",
    "  print(x)"
   ]
  },
  {
   "cell_type": "code",
   "execution_count": 74,
   "id": "e775058a",
   "metadata": {},
   "outputs": [
    {
     "name": "stdout",
     "output_type": "stream",
     "text": [
      "b\n",
      "a\n",
      "n\n",
      "a\n",
      "n\n",
      "a\n"
     ]
    }
   ],
   "source": [
    "for x in \"banana\":\n",
    "    print(x)"
   ]
  },
  {
   "cell_type": "code",
   "execution_count": 70,
   "id": "3ffe5534",
   "metadata": {},
   "outputs": [
    {
     "name": "stdout",
     "output_type": "stream",
     "text": [
      "[0, 1, 2, 3, 4, 5, 6, 7, 8, 9, 10]\n"
     ]
    }
   ],
   "source": [
    "x =  0 \n",
    "someList = []\n",
    "for x  in range(20):\n",
    "    someList.append(x)\n",
    "    if(x==10):\n",
    "        break\n",
    "print(someList)"
   ]
  },
  {
   "cell_type": "code",
   "execution_count": 55,
   "id": "8647d0c9",
   "metadata": {},
   "outputs": [
    {
     "name": "stdout",
     "output_type": "stream",
     "text": [
      "Match found\n"
     ]
    }
   ],
   "source": [
    "# break statement \n",
    "fruits = [\"apple\", \"banana\", \"cherry\"]\n",
    "for x in fruits:\n",
    "    if x=='apple':\n",
    "        print(\"Match found\")\n",
    "        break\n",
    "else:\n",
    "    print(\"Match not found\")\n",
    "        "
   ]
  },
  {
   "cell_type": "code",
   "execution_count": 59,
   "id": "b99e0347",
   "metadata": {},
   "outputs": [
    {
     "name": "stdout",
     "output_type": "stream",
     "text": [
      "Out of loop\n"
     ]
    }
   ],
   "source": [
    "someList = [55,98,34,12]\n",
    "for x  in someList: \n",
    "    if(x==13):\n",
    "        print(\"Value found\", someList.index(13))\n",
    "        break\n",
    "print(\"Out of loop\")"
   ]
  },
  {
   "cell_type": "code",
   "execution_count": 63,
   "id": "3ee4fb4d",
   "metadata": {},
   "outputs": [
    {
     "name": "stdout",
     "output_type": "stream",
     "text": [
      "Value found 3\n",
      "Out of loop\n"
     ]
    }
   ],
   "source": [
    "someList = [55,98,34,13]\n",
    "for x  in someList: \n",
    "    if(x==13):\n",
    "        print(\"Value found\", someList.index(13))\n",
    "        break\n",
    "print(\"Out of loop\")"
   ]
  },
  {
   "cell_type": "code",
   "execution_count": 67,
   "id": "eb7e054a",
   "metadata": {},
   "outputs": [
    {
     "name": "stdout",
     "output_type": "stream",
     "text": [
      "Out of loop\n",
      "Did not find 13\n"
     ]
    }
   ],
   "source": [
    "found = False\n",
    "someList = [55,98,34,12]\n",
    "for x  in someList: \n",
    "    if(x==13):\n",
    "        found = True\n",
    "        print(\"Value found\", someList.index(13))\n",
    "        break\n",
    "print(\"Out of loop\")\n",
    "\n",
    "if not found:\n",
    "    print(\"Did not find 13\")"
   ]
  },
  {
   "cell_type": "code",
   "execution_count": 76,
   "id": "6bbafc71",
   "metadata": {},
   "outputs": [
    {
     "name": "stdout",
     "output_type": "stream",
     "text": [
      "apple\n",
      "banana\n"
     ]
    }
   ],
   "source": [
    "fruits = [\"apple\", \"banana\", \"cherry\"]\n",
    "for x in fruits:\n",
    "    print(x)\n",
    "    if x == \"banana\":\n",
    "        break"
   ]
  },
  {
   "cell_type": "code",
   "execution_count": 48,
   "id": "d5b4ca3d",
   "metadata": {},
   "outputs": [
    {
     "name": "stdout",
     "output_type": "stream",
     "text": [
      "apple\n",
      "cherry\n"
     ]
    }
   ],
   "source": [
    "# continue(run the value execept)\n",
    "fruits = [\"apple\", \"banana\", \"cherry\"]\n",
    "for x in fruits:\n",
    "    if x == \"banana\":\n",
    "        continue\n",
    "    print(x)"
   ]
  },
  {
   "cell_type": "code",
   "execution_count": 72,
   "id": "4f621080",
   "metadata": {},
   "outputs": [
    {
     "name": "stdout",
     "output_type": "stream",
     "text": [
      "[1, 2, 4, 5, 7, 8, 10, 11, 13, 14, 16, 17, 19]\n"
     ]
    }
   ],
   "source": [
    "x =  0 \n",
    "someList = []\n",
    "for x  in range(20): \n",
    "    if(x%3==0):\n",
    "        continue\n",
    "    someList.append(x)\n",
    "print(someList)"
   ]
  },
  {
   "cell_type": "code",
   "execution_count": 78,
   "id": "01f8d351",
   "metadata": {},
   "outputs": [
    {
     "name": "stdout",
     "output_type": "stream",
     "text": [
      "apple\n",
      "banana\n",
      "cherry\n"
     ]
    }
   ],
   "source": [
    "fruits = [\"apple\", \"banana\", \"cherry\"]\n",
    "for x in fruits:\n",
    "    print(x)\n",
    "    if x == \"banana\":\n",
    "        continue"
   ]
  },
  {
   "cell_type": "raw",
   "id": "96686fa0",
   "metadata": {},
   "source": [
    "2. while execute a set of statements as long as a condition is true."
   ]
  },
  {
   "cell_type": "code",
   "execution_count": 83,
   "id": "0ff05331",
   "metadata": {},
   "outputs": [
    {
     "name": "stdout",
     "output_type": "stream",
     "text": [
      "1\n",
      "2\n",
      "3\n",
      "4\n",
      "5\n",
      "6\n",
      "7\n",
      "8\n",
      "9\n"
     ]
    }
   ],
   "source": [
    "i = 1\n",
    "while i < 10:\n",
    "    print(i)\n",
    "    i += 1\n"
   ]
  },
  {
   "cell_type": "code",
   "execution_count": 84,
   "id": "a4e8ffe8",
   "metadata": {},
   "outputs": [
    {
     "name": "stdout",
     "output_type": "stream",
     "text": [
      "1\n",
      "2\n",
      "3\n"
     ]
    }
   ],
   "source": [
    "i = 1\n",
    "while i < 6:\n",
    "  print(i)\n",
    "  if i == 3:\n",
    "    break\n",
    "  i += 1"
   ]
  },
  {
   "cell_type": "code",
   "execution_count": null,
   "id": "00cb9af6",
   "metadata": {},
   "outputs": [],
   "source": [
    "i = 1\n",
    "while i < 10:\n",
    "    print(i)\n",
    "    if i%2==0:\n",
    "        break\n",
    "    i += 1"
   ]
  },
  {
   "cell_type": "code",
   "execution_count": null,
   "id": "2625eb86",
   "metadata": {},
   "outputs": [],
   "source": []
  }
 ],
 "metadata": {
  "kernelspec": {
   "display_name": "Python 3",
   "language": "python",
   "name": "python3"
  },
  "language_info": {
   "codemirror_mode": {
    "name": "ipython",
    "version": 3
   },
   "file_extension": ".py",
   "mimetype": "text/x-python",
   "name": "python",
   "nbconvert_exporter": "python",
   "pygments_lexer": "ipython3",
   "version": "3.8.2"
  }
 },
 "nbformat": 4,
 "nbformat_minor": 5
}

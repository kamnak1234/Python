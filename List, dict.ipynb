{
 "cells": [
  {
   "cell_type": "markdown",
   "id": "bf3d47a9",
   "metadata": {},
   "source": [
    "\n",
    "# lists"
   ]
  },
  {
   "cell_type": "code",
   "execution_count": 12,
   "id": "1db484df",
   "metadata": {},
   "outputs": [],
   "source": [
    "x = [1,2,3,'Kamini',4,5.3,['Apple','Mango'],10] # list allow duplicates values"
   ]
  },
  {
   "cell_type": "code",
   "execution_count": 2,
   "id": "82e12770",
   "metadata": {},
   "outputs": [
    {
     "data": {
      "text/plain": [
       "[1, 2, 3, 'Kamini', 4, 5.3, ['Apple', 'Mango'], 10]"
      ]
     },
     "execution_count": 2,
     "metadata": {},
     "output_type": "execute_result"
    }
   ],
   "source": [
    "x"
   ]
  },
  {
   "cell_type": "code",
   "execution_count": 3,
   "id": "c7ed7134",
   "metadata": {},
   "outputs": [
    {
     "data": {
      "text/plain": [
       "list"
      ]
     },
     "execution_count": 3,
     "metadata": {},
     "output_type": "execute_result"
    }
   ],
   "source": [
    "type(x)"
   ]
  },
  {
   "cell_type": "code",
   "execution_count": 4,
   "id": "0c736929",
   "metadata": {},
   "outputs": [
    {
     "name": "stdout",
     "output_type": "stream",
     "text": [
      "8\n"
     ]
    }
   ],
   "source": [
    "print(len(x))"
   ]
  },
  {
   "cell_type": "code",
   "execution_count": 5,
   "id": "4c370ce1",
   "metadata": {},
   "outputs": [],
   "source": [
    "list1 = [\"apple\", \"banana\", \"cherry\"]\n",
    "list2 = [1, 5, 7, 9, 3]\n",
    "list3 = [True, False, False]"
   ]
  },
  {
   "cell_type": "code",
   "execution_count": 7,
   "id": "ecfacfec",
   "metadata": {},
   "outputs": [
    {
     "name": "stdout",
     "output_type": "stream",
     "text": [
      "Kamini\n"
     ]
    }
   ],
   "source": [
    "# accessing\n",
    "print(x[3])"
   ]
  },
  {
   "cell_type": "code",
   "execution_count": 8,
   "id": "2c8e9b40",
   "metadata": {},
   "outputs": [
    {
     "name": "stdout",
     "output_type": "stream",
     "text": [
      "[1, 3, 4, ['Apple', 'Mango']]\n"
     ]
    }
   ],
   "source": [
    "print(x[0::2])"
   ]
  },
  {
   "cell_type": "code",
   "execution_count": 9,
   "id": "05d442e9",
   "metadata": {},
   "outputs": [
    {
     "name": "stdout",
     "output_type": "stream",
     "text": [
      "M\n"
     ]
    }
   ],
   "source": [
    "print(x[-2][-1][0]) #mango M "
   ]
  },
  {
   "cell_type": "code",
   "execution_count": 29,
   "id": "721cd9ca",
   "metadata": {},
   "outputs": [
    {
     "name": "stdout",
     "output_type": "stream",
     "text": [
      "Value available at index 2 : \n",
      "cherry\n",
      "New value available at index 2 : \n",
      "Watermelon\n",
      "['apple', 'banana', 'Watermelon']\n"
     ]
    }
   ],
   "source": [
    "#update (change item value in list)\n",
    "list = [\"apple\", \"banana\", \"cherry\"]\n",
    "print (\"Value available at index 2 : \")\n",
    "print (list[2])\n",
    "list[2] = 'Watermelon';\n",
    "print (\"New value available at index 2 : \")\n",
    "print (list[2])\n",
    "print(list)"
   ]
  },
  {
   "cell_type": "code",
   "execution_count": 30,
   "id": "f0acbba1",
   "metadata": {},
   "outputs": [
    {
     "name": "stdout",
     "output_type": "stream",
     "text": [
      "['apple', 'banana', 'Watermelon']\n",
      "['apple', 'banana', 'chiku', 'Watermelon']\n"
     ]
    }
   ],
   "source": [
    "# update (insert new item)\n",
    "print(list)\n",
    "list.insert(2,\"chiku\")\n",
    "print(list)"
   ]
  },
  {
   "cell_type": "code",
   "execution_count": 31,
   "id": "a52b435b",
   "metadata": {},
   "outputs": [
    {
     "name": "stdout",
     "output_type": "stream",
     "text": [
      "['apple', 'banana', 'chiku', 'Watermelon']\n",
      "After deleting items available are :  ['banana', 'chiku', 'Watermelon']\n"
     ]
    }
   ],
   "source": [
    "#del value in list\n",
    "print(list)\n",
    "del list[0]\n",
    "print('After deleting items available are : ',list)"
   ]
  },
  {
   "cell_type": "raw",
   "id": "9965d61e",
   "metadata": {},
   "source": [
    "Basic list Operation"
   ]
  },
  {
   "cell_type": "code",
   "execution_count": 33,
   "id": "13d1e447",
   "metadata": {},
   "outputs": [
    {
     "name": "stdout",
     "output_type": "stream",
     "text": [
      "3\n"
     ]
    }
   ],
   "source": [
    "#length\n",
    "print(len(list))"
   ]
  },
  {
   "cell_type": "code",
   "execution_count": 40,
   "id": "d914973b",
   "metadata": {},
   "outputs": [
    {
     "name": "stdout",
     "output_type": "stream",
     "text": [
      "1st list  :  ['apple', 'banana', 'cherry']\n",
      "2nd list  :  [1, 5, 7, 9, 3]\n",
      "concatenation of 2 list are :  ['apple', 'banana', 'cherry', 1, 5, 7, 9, 3]\n"
     ]
    }
   ],
   "source": [
    "#Concatenation\n",
    "list1 = [\"apple\", \"banana\", \"cherry\"]\n",
    "print('1st list  : ',list1)\n",
    "list2 = [1, 5, 7, 9, 3]\n",
    "print('2nd list  : ',list2)\n",
    "print('concatenation of 2 list are : ',list1+list2)"
   ]
  },
  {
   "cell_type": "code",
   "execution_count": 42,
   "id": "087e8529",
   "metadata": {},
   "outputs": [
    {
     "name": "stdout",
     "output_type": "stream",
     "text": [
      "['apple', 'banana', 'cherry', 'apple', 'banana', 'cherry']\n",
      "appleapple\n"
     ]
    }
   ],
   "source": [
    "#Repetition\n",
    "print(list1*2)\n",
    "print(list1[0]*2)"
   ]
  },
  {
   "cell_type": "code",
   "execution_count": 44,
   "id": "4e179be1",
   "metadata": {},
   "outputs": [
    {
     "name": "stdout",
     "output_type": "stream",
     "text": [
      "False\n",
      "True\n"
     ]
    }
   ],
   "source": [
    "#Membership\n",
    "print('mango' in list1)\n",
    "print('apple' in list1)\n"
   ]
  },
  {
   "cell_type": "raw",
   "id": "94a18cab",
   "metadata": {},
   "source": [
    "Build in function in python"
   ]
  },
  {
   "cell_type": "code",
   "execution_count": 45,
   "id": "9bbb4681",
   "metadata": {},
   "outputs": [
    {
     "name": "stdout",
     "output_type": "stream",
     "text": [
      "[1, 2, 3, 'Kamini', 4, 5.3, ['Apple', 'Mango'], 10]\n"
     ]
    }
   ],
   "source": [
    "x = [1,2,3,'Kamini',4,5.3,['Apple','Mango'],10] # list allow duplicates values\n",
    "print(x)"
   ]
  },
  {
   "cell_type": "code",
   "execution_count": 47,
   "id": "b61a0858",
   "metadata": {},
   "outputs": [
    {
     "name": "stdout",
     "output_type": "stream",
     "text": [
      "['apple', 'banana', 'cherry']\n"
     ]
    }
   ],
   "source": [
    "a = [\"apple\", \"banana\", \"cherry\"]\n",
    "print(a)"
   ]
  },
  {
   "cell_type": "code",
   "execution_count": 51,
   "id": "7483e865",
   "metadata": {},
   "outputs": [
    {
     "ename": "SyntaxError",
     "evalue": "invalid syntax (Temp/ipykernel_7596/2239555690.py, line 2)",
     "output_type": "error",
     "traceback": [
      "\u001b[1;36m  File \u001b[1;32m\"C:\\Users\\KAMINI\\AppData\\Local\\Temp/ipykernel_7596/2239555690.py\"\u001b[1;36m, line \u001b[1;32m2\u001b[0m\n\u001b[1;33m    print cmp(x,a)\u001b[0m\n\u001b[1;37m          ^\u001b[0m\n\u001b[1;31mSyntaxError\u001b[0m\u001b[1;31m:\u001b[0m invalid syntax\n"
     ]
    }
   ],
   "source": [
    "#compare\n",
    "print cmp(x,a)"
   ]
  },
  {
   "cell_type": "code",
   "execution_count": 55,
   "id": "9c0982d2",
   "metadata": {},
   "outputs": [
    {
     "name": "stdout",
     "output_type": "stream",
     "text": [
      "9\n",
      "1\n"
     ]
    }
   ],
   "source": [
    "#max and min in list\n",
    "list2 = [1, 5, 7, 9, 3]\n",
    "print(max(list2))\n",
    "print(min(list2))"
   ]
  },
  {
   "cell_type": "code",
   "execution_count": 58,
   "id": "8dea453b",
   "metadata": {},
   "outputs": [
    {
     "name": "stdout",
     "output_type": "stream",
     "text": [
      "tupule is :  ('apple', 'banana', 'cherry')\n"
     ]
    },
    {
     "ename": "TypeError",
     "evalue": "'list' object is not callable",
     "output_type": "error",
     "traceback": [
      "\u001b[1;31m---------------------------------------------------------------------------\u001b[0m",
      "\u001b[1;31mTypeError\u001b[0m                                 Traceback (most recent call last)",
      "\u001b[1;32m~\\AppData\\Local\\Temp/ipykernel_7596/3002820085.py\u001b[0m in \u001b[0;36m<module>\u001b[1;34m\u001b[0m\n\u001b[0;32m      2\u001b[0m \u001b[0ma\u001b[0m \u001b[1;33m=\u001b[0m \u001b[1;33m(\u001b[0m\u001b[1;34m\"apple\"\u001b[0m\u001b[1;33m,\u001b[0m \u001b[1;34m\"banana\"\u001b[0m\u001b[1;33m,\u001b[0m \u001b[1;34m\"cherry\"\u001b[0m\u001b[1;33m)\u001b[0m\u001b[1;33m\u001b[0m\u001b[1;33m\u001b[0m\u001b[0m\n\u001b[0;32m      3\u001b[0m \u001b[0mprint\u001b[0m\u001b[1;33m(\u001b[0m\u001b[1;34m'tupule is : '\u001b[0m\u001b[1;33m,\u001b[0m\u001b[0ma\u001b[0m\u001b[1;33m)\u001b[0m\u001b[1;33m\u001b[0m\u001b[1;33m\u001b[0m\u001b[0m\n\u001b[1;32m----> 4\u001b[1;33m \u001b[0mb\u001b[0m \u001b[1;33m=\u001b[0m \u001b[0mlist\u001b[0m\u001b[1;33m(\u001b[0m\u001b[0ma\u001b[0m\u001b[1;33m)\u001b[0m\u001b[1;33m\u001b[0m\u001b[1;33m\u001b[0m\u001b[0m\n\u001b[0m\u001b[0;32m      5\u001b[0m \u001b[0mprint\u001b[0m\u001b[1;33m(\u001b[0m\u001b[1;34m'tupule to list : '\u001b[0m\u001b[1;33m,\u001b[0m\u001b[0mb\u001b[0m\u001b[1;33m)\u001b[0m\u001b[1;33m\u001b[0m\u001b[1;33m\u001b[0m\u001b[0m\n",
      "\u001b[1;31mTypeError\u001b[0m: 'list' object is not callable"
     ]
    }
   ],
   "source": [
    "#convert tupule in to list\n",
    "a = (\"apple\", \"banana\", \"cherry\")\n",
    "print('tupule is : ',a)\n",
    "b = list(a)\n",
    "print('tupule to list : ',b)  # working in google colab"
   ]
  },
  {
   "cell_type": "raw",
   "id": "c0fad58a",
   "metadata": {},
   "source": [
    "Other list methods are:"
   ]
  },
  {
   "cell_type": "code",
   "execution_count": 100,
   "id": "52abdce0",
   "metadata": {},
   "outputs": [],
   "source": [
    "x = [1,2,3,'Kamini',4,5.3,['Apple','Mango'],10] # list allow duplicates values"
   ]
  },
  {
   "cell_type": "code",
   "execution_count": 49,
   "id": "bba8aa89",
   "metadata": {},
   "outputs": [
    {
     "data": {
      "text/plain": [
       "[1, 2, 3, 'Kamini', 4, 5.3, ['Apple', 'Mango'], 10]"
      ]
     },
     "execution_count": 49,
     "metadata": {},
     "output_type": "execute_result"
    }
   ],
   "source": [
    "x"
   ]
  },
  {
   "cell_type": "code",
   "execution_count": 89,
   "id": "f8dbaad2",
   "metadata": {},
   "outputs": [
    {
     "data": {
      "text/plain": [
       "[['Apple', 'Mango'], 5.3, 4, 'Kamini', 3, 2, 1, 2022]"
      ]
     },
     "execution_count": 89,
     "metadata": {},
     "output_type": "execute_result"
    }
   ],
   "source": [
    "#append add object at the end\n",
    "x.append(2022)\n",
    "x"
   ]
  },
  {
   "cell_type": "code",
   "execution_count": 51,
   "id": "278f61b9",
   "metadata": {},
   "outputs": [
    {
     "data": {
      "text/plain": [
       "1"
      ]
     },
     "execution_count": 51,
     "metadata": {},
     "output_type": "execute_result"
    }
   ],
   "source": [
    "#count() returns count of how many times obj occurs in list.\n",
    "x.count(2022)"
   ]
  },
  {
   "cell_type": "code",
   "execution_count": 52,
   "id": "bc275f4d",
   "metadata": {},
   "outputs": [
    {
     "name": "stdout",
     "output_type": "stream",
     "text": [
      "[1, 2, 3, 'Kamini', 4, 5.3, ['Apple', 'Mango'], 10, 2022]\n"
     ]
    }
   ],
   "source": [
    "# extend() appends the contents of seq to list.\n",
    "print(x)\n",
    "c = ['Riddhi','viddhi','sneha']\n",
    "x.extend(c)"
   ]
  },
  {
   "cell_type": "code",
   "execution_count": 101,
   "id": "f2e73058",
   "metadata": {},
   "outputs": [
    {
     "data": {
      "text/plain": [
       "[1, 200, 3, 'Kamini', 4, 5.3, ['Apple', 'Mango'], 10]"
      ]
     },
     "execution_count": 101,
     "metadata": {},
     "output_type": "execute_result"
    }
   ],
   "source": [
    "#change the list items using indexing \n",
    "x[1]=200\n",
    "x"
   ]
  },
  {
   "cell_type": "code",
   "execution_count": 102,
   "id": "780bd88b",
   "metadata": {},
   "outputs": [
    {
     "name": "stdout",
     "output_type": "stream",
     "text": [
      "[1, 'blackcurrant', 'watermelon', 'Kamini', 4, 5.3, ['Apple', 'Mango'], 10]\n"
     ]
    }
   ],
   "source": [
    "#change the range of list items using indexing \n",
    "x[1:3] = [\"blackcurrant\", \"watermelon\"]\n",
    "print(x)\n",
    "\n"
   ]
  },
  {
   "cell_type": "code",
   "execution_count": 103,
   "id": "ffb33925",
   "metadata": {},
   "outputs": [
    {
     "name": "stdout",
     "output_type": "stream",
     "text": [
      "[1, 'black', 'white', 'watermelon', 'Kamini', 4, 5.3, ['Apple', 'Mango'], 10]\n"
     ]
    }
   ],
   "source": [
    "# Change the second value by replacing it with two new values:\n",
    "x[1:2] = [\"black\", \"white\"]\n",
    "print(x)"
   ]
  },
  {
   "cell_type": "code",
   "execution_count": null,
   "id": "f3bc462e",
   "metadata": {},
   "outputs": [],
   "source": []
  },
  {
   "cell_type": "code",
   "execution_count": 113,
   "id": "50dd861e",
   "metadata": {},
   "outputs": [
    {
     "data": {
      "text/plain": [
       "3"
      ]
     },
     "execution_count": 113,
     "metadata": {},
     "output_type": "execute_result"
    }
   ],
   "source": [
    "#index() returns the lowest index in list that obj appears.\n",
    "x = [1,2,3,'Kamini',4,5.3,['Apple','Mango'],10]\n",
    "x.index('Kamini')"
   ]
  },
  {
   "cell_type": "code",
   "execution_count": 114,
   "id": "4ea450a2",
   "metadata": {},
   "outputs": [
    {
     "ename": "ValueError",
     "evalue": "'Mango' is not in list",
     "output_type": "error",
     "traceback": [
      "\u001b[1;31m---------------------------------------------------------------------------\u001b[0m",
      "\u001b[1;31mValueError\u001b[0m                                Traceback (most recent call last)",
      "\u001b[1;32m~\\AppData\\Local\\Temp/ipykernel_3596/3548252664.py\u001b[0m in \u001b[0;36m<module>\u001b[1;34m\u001b[0m\n\u001b[1;32m----> 1\u001b[1;33m \u001b[0mx\u001b[0m\u001b[1;33m.\u001b[0m\u001b[0mindex\u001b[0m\u001b[1;33m(\u001b[0m\u001b[1;34m'Mango'\u001b[0m\u001b[1;33m)\u001b[0m\u001b[1;33m\u001b[0m\u001b[1;33m\u001b[0m\u001b[0m\n\u001b[0m",
      "\u001b[1;31mValueError\u001b[0m: 'Mango' is not in list"
     ]
    }
   ],
   "source": [
    "x.index('Mango')"
   ]
  },
  {
   "cell_type": "code",
   "execution_count": 80,
   "id": "44e9cadc",
   "metadata": {},
   "outputs": [
    {
     "data": {
      "text/plain": [
       "[1, 'Tina', 2, 3, 'Kamini', 4, 5.3, ['Apple', 'Mango'], 10]"
      ]
     },
     "execution_count": 80,
     "metadata": {},
     "output_type": "execute_result"
    }
   ],
   "source": [
    "#insert() inserts object obj into list at offset index.\n",
    "x.insert(1,'Tina')\n",
    "x"
   ]
  },
  {
   "cell_type": "code",
   "execution_count": 81,
   "id": "3d391314",
   "metadata": {},
   "outputs": [
    {
     "data": {
      "text/plain": [
       "[1, 2, 3, 'Kamini', 4, 5.3, ['Apple', 'Mango'], 10]"
      ]
     },
     "execution_count": 81,
     "metadata": {},
     "output_type": "execute_result"
    }
   ],
   "source": [
    "#remove() method removes the specified item.\n",
    "x.remove('Tina')\n",
    "x\n",
    "# to remove complete list del listname"
   ]
  },
  {
   "cell_type": "code",
   "execution_count": 82,
   "id": "621d5eee",
   "metadata": {},
   "outputs": [
    {
     "data": {
      "text/plain": [
       "[1, 2, 3, 'Kamini', 4, 5.3, ['Apple', 'Mango']]"
      ]
     },
     "execution_count": 82,
     "metadata": {},
     "output_type": "execute_result"
    }
   ],
   "source": [
    "#pop() method removes the specified index/ if not mentioned than remove the end element\n",
    "x.pop()\n",
    "x"
   ]
  },
  {
   "cell_type": "code",
   "execution_count": 85,
   "id": "8b1b733e",
   "metadata": {},
   "outputs": [
    {
     "data": {
      "text/plain": [
       "[['Apple', 'Mango'], 5.3, 4, 'Kamini', 3, 2, 1]"
      ]
     },
     "execution_count": 85,
     "metadata": {},
     "output_type": "execute_result"
    }
   ],
   "source": [
    "# reverse() reverses objects of list in place.\n",
    "x.reverse()\n",
    "x"
   ]
  },
  {
   "cell_type": "code",
   "execution_count": 107,
   "id": "3b8e4831",
   "metadata": {},
   "outputs": [
    {
     "name": "stdout",
     "output_type": "stream",
     "text": [
      "['banana', 'kiwi', 'mango', 'orange', 'pineapple']\n",
      "[23, 50, 65, 82, 100]\n",
      "['pineapple', 'orange', 'mango', 'kiwi', 'banana']\n"
     ]
    }
   ],
   "source": [
    "# sort \n",
    "#alphabets\n",
    "a = [\"orange\", \"mango\", \"kiwi\", \"pineapple\", \"banana\"]\n",
    "a.sort()\n",
    "print(a) \n",
    "\n",
    "#numeric\n",
    "b  = [100, 50, 65, 82, 23]\n",
    "b.sort()\n",
    "print(b)\n",
    "\n",
    "#descending\n",
    "c = [\"orange\", \"mango\", \"kiwi\", \"pineapple\", \"banana\"]\n",
    "c.sort(reverse = True)\n",
    "print(c)"
   ]
  },
  {
   "cell_type": "code",
   "execution_count": 86,
   "id": "ac9e0fd8",
   "metadata": {},
   "outputs": [
    {
     "name": "stdout",
     "output_type": "stream",
     "text": [
      "Yes, 'Kamini' is in the list x\n"
     ]
    }
   ],
   "source": [
    "#check weather items presesnt in list \n",
    "if \"Kamini\" in x:\n",
    "  print(\"Yes, 'Kamini' is in the list x\")"
   ]
  },
  {
   "cell_type": "code",
   "execution_count": 88,
   "id": "46826805",
   "metadata": {},
   "outputs": [
    {
     "name": "stdout",
     "output_type": "stream",
     "text": [
      "No, 'Yashwant' is in the list x\n"
     ]
    }
   ],
   "source": [
    "if \"Yashwant\" in x:\n",
    "    print(\"Yes, 'Yashwant' is in the list x\")\n",
    "else:\n",
    "    print(\"No, 'Yashwant' is in the list x\")\n",
    "    "
   ]
  },
  {
   "cell_type": "code",
   "execution_count": 104,
   "id": "bb3da613",
   "metadata": {},
   "outputs": [
    {
     "name": "stdout",
     "output_type": "stream",
     "text": [
      "['apple', 'banana', 'mango']\n"
     ]
    }
   ],
   "source": [
    "#list comprehension\n",
    "fruits = [\"apple\", \"banana\", \"cherry\", \"kiwi\", \"mango\"]\n",
    "newlist = []\n",
    "\n",
    "for x in fruits:\n",
    "  if \"a\" in x:\n",
    "    newlist.append(x)\n",
    "\n",
    "print(newlist)"
   ]
  },
  {
   "cell_type": "code",
   "execution_count": 108,
   "id": "2978aa07",
   "metadata": {},
   "outputs": [
    {
     "name": "stdout",
     "output_type": "stream",
     "text": [
      "['apple', 'banana', 'cherry']\n"
     ]
    }
   ],
   "source": [
    "#copy list \n",
    "list = [\"apple\", \"banana\", \"cherry\"]\n",
    "mylist = list.copy()\n",
    "print(mylist)"
   ]
  },
  {
   "cell_type": "code",
   "execution_count": 112,
   "id": "af85921d",
   "metadata": {},
   "outputs": [
    {
     "name": "stdout",
     "output_type": "stream",
     "text": [
      "['a', 'b', 'c', 1, 2, 3]\n",
      "['a', 'b', 'c', 1, 2, 3]\n",
      "['a', 'b', 'c', 1, 2, 3]\n"
     ]
    }
   ],
   "source": [
    "#joinlist \n",
    "list1 = [\"a\", \"b\", \"c\"]\n",
    "list2 = [1, 2, 3]\n",
    "\n",
    "list3 = list1 + list2\n",
    "print(list3)\n",
    "\n",
    "#join by append list4 in list3\n",
    "list3 = [\"a\", \"b\" , \"c\"]\n",
    "list4 = [1, 2, 3]\n",
    "\n",
    "for x in list4:\n",
    "  list3.append(x)\n",
    "\n",
    "print(list3)\n",
    "\n",
    "#join by extend\n",
    "list5 = [\"a\", \"b\" , \"c\"]\n",
    "list6 = [1, 2, 3]\n",
    "\n",
    "list5.extend(list6)\n",
    "print(list5)"
   ]
  },
  {
   "cell_type": "code",
   "execution_count": 115,
   "id": "8de79d94",
   "metadata": {},
   "outputs": [],
   "source": [
    "# delete list \n",
    "del list3"
   ]
  },
  {
   "cell_type": "code",
   "execution_count": 116,
   "id": "812305b0",
   "metadata": {},
   "outputs": [
    {
     "ename": "NameError",
     "evalue": "name 'list3' is not defined",
     "output_type": "error",
     "traceback": [
      "\u001b[1;31m---------------------------------------------------------------------------\u001b[0m",
      "\u001b[1;31mNameError\u001b[0m                                 Traceback (most recent call last)",
      "\u001b[1;32m~\\AppData\\Local\\Temp/ipykernel_3596/126458919.py\u001b[0m in \u001b[0;36m<module>\u001b[1;34m\u001b[0m\n\u001b[1;32m----> 1\u001b[1;33m \u001b[0mprint\u001b[0m\u001b[1;33m(\u001b[0m\u001b[0mlist3\u001b[0m\u001b[1;33m)\u001b[0m\u001b[1;33m\u001b[0m\u001b[1;33m\u001b[0m\u001b[0m\n\u001b[0m",
      "\u001b[1;31mNameError\u001b[0m: name 'list3' is not defined"
     ]
    }
   ],
   "source": [
    "print(list3)\n"
   ]
  },
  {
   "cell_type": "markdown",
   "id": "d95061a1",
   "metadata": {},
   "source": [
    "# Dictionary "
   ]
  },
  {
   "cell_type": "code",
   "execution_count": 198,
   "id": "c3e67dc2",
   "metadata": {},
   "outputs": [],
   "source": [
    "#in dictionaries duplicate are not allowed \n",
    "a = {\n",
    "    'fruits':['mango','apple','banana'],\n",
    "    'Even':[2,4,6,8], \n",
    "    'pi':3.14\n",
    "}"
   ]
  },
  {
   "cell_type": "code",
   "execution_count": 130,
   "id": "b9802499",
   "metadata": {},
   "outputs": [
    {
     "name": "stdout",
     "output_type": "stream",
     "text": [
      "{'fruits': ['mango', 'apple', 'banana'], 'Even': [2, 4, 6, 8], 'pi': 3.14}\n"
     ]
    }
   ],
   "source": [
    "print(a)"
   ]
  },
  {
   "cell_type": "code",
   "execution_count": 131,
   "id": "47787e06",
   "metadata": {},
   "outputs": [
    {
     "data": {
      "text/plain": [
       "dict_keys(['fruits', 'Even', 'pi'])"
      ]
     },
     "execution_count": 131,
     "metadata": {},
     "output_type": "execute_result"
    }
   ],
   "source": [
    "#keys and values \n",
    "a.keys()\n"
   ]
  },
  {
   "cell_type": "code",
   "execution_count": 132,
   "id": "2306d549",
   "metadata": {},
   "outputs": [
    {
     "data": {
      "text/plain": [
       "dict_values([['mango', 'apple', 'banana'], [2, 4, 6, 8], 3.14])"
      ]
     },
     "execution_count": 132,
     "metadata": {},
     "output_type": "execute_result"
    }
   ],
   "source": [
    "a.values()"
   ]
  },
  {
   "cell_type": "code",
   "execution_count": 133,
   "id": "3bac8271",
   "metadata": {},
   "outputs": [
    {
     "data": {
      "text/plain": [
       "dict"
      ]
     },
     "execution_count": 133,
     "metadata": {},
     "output_type": "execute_result"
    }
   ],
   "source": [
    "type(a)"
   ]
  },
  {
   "cell_type": "code",
   "execution_count": 134,
   "id": "2f039656",
   "metadata": {},
   "outputs": [
    {
     "name": "stdout",
     "output_type": "stream",
     "text": [
      "3\n"
     ]
    }
   ],
   "source": [
    "#length of dictionary\n",
    "print(len(a))"
   ]
  },
  {
   "cell_type": "code",
   "execution_count": 146,
   "id": "ec406652",
   "metadata": {},
   "outputs": [
    {
     "data": {
      "text/plain": [
       "['mango', 'apple', 'banana']"
      ]
     },
     "execution_count": 146,
     "metadata": {},
     "output_type": "execute_result"
    }
   ],
   "source": [
    "#accessing elements in list\n",
    "a1 = a['fruits']\n",
    "a1"
   ]
  },
  {
   "cell_type": "code",
   "execution_count": 147,
   "id": "f7bca44d",
   "metadata": {},
   "outputs": [
    {
     "data": {
      "text/plain": [
       "['mango', 'apple', 'banana']"
      ]
     },
     "execution_count": 147,
     "metadata": {},
     "output_type": "execute_result"
    }
   ],
   "source": [
    "a2 = a.get('fruits')\n",
    "a2"
   ]
  },
  {
   "cell_type": "code",
   "execution_count": 1,
   "id": "cb9a3986",
   "metadata": {},
   "outputs": [
    {
     "name": "stdout",
     "output_type": "stream",
     "text": [
      "dict_keys(['fruits', 'Even', 'pi'])\n",
      "dict_keys(['fruits', 'Even', 'pi', 'colour'])\n"
     ]
    }
   ],
   "source": [
    "# add items in dictionary\n",
    "a = {\n",
    "    'fruits':['mango','apple','banana'],\n",
    "    'Even':[2,4,6,8], \n",
    "    'pi':3.14\n",
    "}\n",
    "x = a.keys()\n",
    "print(x)\n",
    "a['colour'] = 'Red' \n",
    "print(x)"
   ]
  },
  {
   "cell_type": "code",
   "execution_count": 2,
   "id": "3a86e9ec",
   "metadata": {},
   "outputs": [
    {
     "name": "stdout",
     "output_type": "stream",
     "text": [
      "{'fruits': ['mango', 'apple', 'banana'], 'Even': [2, 4, 6, 8], 'pi': 3.14, 'colour': 'Red'}\n"
     ]
    }
   ],
   "source": [
    "print(a)"
   ]
  },
  {
   "cell_type": "code",
   "execution_count": 151,
   "id": "ff762d0b",
   "metadata": {},
   "outputs": [
    {
     "name": "stdout",
     "output_type": "stream",
     "text": [
      "dict_values([['mango', 'apple', 'banana'], [2, 4, 6, 8], 3.14])\n",
      "dict_values([['mango', 'apple', 'banana'], [2, 4, 6, 8], '3'])\n"
     ]
    }
   ],
   "source": [
    "#change values in dictonary\n",
    "a = {\n",
    "    'fruits':['mango','apple','banana'],\n",
    "    'Even':[2,4,6,8], \n",
    "    'pi':3.14\n",
    "}\n",
    "x = a.values()\n",
    "print(x)\n",
    "a['pi'] = '3' \n",
    "print(x)"
   ]
  },
  {
   "cell_type": "code",
   "execution_count": 209,
   "id": "ba8baefd",
   "metadata": {},
   "outputs": [
    {
     "name": "stdout",
     "output_type": "stream",
     "text": [
      "{'fruits': ['mango', 'apple', 'banana'], 'Even': [2, 4, 6, 8], 'pi': 3.14}\n"
     ]
    }
   ],
   "source": [
    "# string representation of a dictionary.\n",
    "#str(dict)\n",
    "a = {\n",
    "    'fruits':['mango','apple','banana'],\n",
    "    'Even':[2,4,6,8], \n",
    "    'pi':3.14\n",
    "}\n",
    "print(str(a))\n"
   ]
  },
  {
   "cell_type": "code",
   "execution_count": 153,
   "id": "c85dc815",
   "metadata": {},
   "outputs": [
    {
     "name": "stdout",
     "output_type": "stream",
     "text": [
      "Yes, 'fruits' is one of the keys in the a dictionary\n"
     ]
    }
   ],
   "source": [
    "# to check weather key exist or not \n",
    "a = {\n",
    "    'fruits':['mango','apple','banana'],\n",
    "    'Even':[2,4,6,8], \n",
    "    'pi':3.14\n",
    "}\n",
    "if \"fruits\" in a:\n",
    "  print(\"Yes, 'fruits' is one of the keys in the a dictionary\")"
   ]
  },
  {
   "cell_type": "code",
   "execution_count": 156,
   "id": "d37bcc08",
   "metadata": {},
   "outputs": [
    {
     "name": "stdout",
     "output_type": "stream",
     "text": [
      "No, 'Hobbies is not a keys in the a dictionary\n"
     ]
    }
   ],
   "source": [
    "a = {\n",
    "    'fruits':['mango','apple','banana'],\n",
    "    'Even':[2,4,6,8], \n",
    "    'pi':3.14\n",
    "}\n",
    "if \"Hobbies\" in a:\n",
    "    print(\"Yes, 'Hobbies' is one of the keys in the a dictionary\")\n",
    "else:\n",
    "     print(\"No, 'Hobbies is not a keys in the a dictionary\")\n",
    "    "
   ]
  },
  {
   "cell_type": "code",
   "execution_count": 169,
   "id": "68997019",
   "metadata": {},
   "outputs": [
    {
     "data": {
      "text/plain": [
       "{'fruits': ['mango', 'apple', 'banana'], 'Even': [2, 4, 6, 8], 'pi': 3.14}"
      ]
     },
     "execution_count": 169,
     "metadata": {},
     "output_type": "execute_result"
    }
   ],
   "source": [
    "a"
   ]
  },
  {
   "cell_type": "code",
   "execution_count": 170,
   "id": "99760262",
   "metadata": {},
   "outputs": [
    {
     "data": {
      "text/plain": [
       "dict_keys(['fruits', 'Even', 'pi'])"
      ]
     },
     "execution_count": 170,
     "metadata": {},
     "output_type": "execute_result"
    }
   ],
   "source": [
    "# Typecasting \n",
    "\n",
    "a.keys()\n"
   ]
  },
  {
   "cell_type": "code",
   "execution_count": 181,
   "id": "20cebd18",
   "metadata": {},
   "outputs": [
    {
     "ename": "TypeError",
     "evalue": "'list' object is not callable",
     "output_type": "error",
     "traceback": [
      "\u001b[1;31m---------------------------------------------------------------------------\u001b[0m",
      "\u001b[1;31mTypeError\u001b[0m                                 Traceback (most recent call last)",
      "\u001b[1;32m~\\AppData\\Local\\Temp/ipykernel_3596/2824885249.py\u001b[0m in \u001b[0;36m<module>\u001b[1;34m\u001b[0m\n\u001b[1;32m----> 1\u001b[1;33m \u001b[0mv\u001b[0m \u001b[1;33m=\u001b[0m \u001b[0mlist\u001b[0m\u001b[1;33m(\u001b[0m\u001b[0ma\u001b[0m\u001b[1;33m.\u001b[0m\u001b[0mkeys\u001b[0m\u001b[1;33m(\u001b[0m\u001b[1;33m)\u001b[0m\u001b[1;33m)\u001b[0m\u001b[1;33m\u001b[0m\u001b[1;33m\u001b[0m\u001b[0m\n\u001b[0m",
      "\u001b[1;31mTypeError\u001b[0m: 'list' object is not callable"
     ]
    }
   ],
   "source": [
    "v = list(a.keys())"
   ]
  },
  {
   "cell_type": "code",
   "execution_count": 184,
   "id": "5dc6fb9a",
   "metadata": {},
   "outputs": [
    {
     "data": {
      "text/plain": [
       "dict_items([('fruits', ['mango', 'apple', 'banana']), ('Even', [2, 4, 6, 8]), ('pi', 3.14)])"
      ]
     },
     "execution_count": 184,
     "metadata": {},
     "output_type": "execute_result"
    }
   ],
   "source": [
    "# get items \n",
    "a.items()"
   ]
  },
  {
   "cell_type": "code",
   "execution_count": 199,
   "id": "545ad240",
   "metadata": {},
   "outputs": [
    {
     "data": {
      "text/plain": [
       "{'fruits': ['mango', 'apple', 'banana'],\n",
       " 'Even': [2, 4, 6, 8],\n",
       " 'pi': 3.14,\n",
       " 'prime': [1, 3, 5, 7]}"
      ]
     },
     "execution_count": 199,
     "metadata": {},
     "output_type": "execute_result"
    }
   ],
   "source": [
    "# update whole key value or only value \n",
    "a\n",
    "a.update({'prime':[1,3,5,7]})\n",
    "a"
   ]
  },
  {
   "cell_type": "code",
   "execution_count": 200,
   "id": "d0e1b29c",
   "metadata": {},
   "outputs": [
    {
     "data": {
      "text/plain": [
       "{'fruits': 'chiku', 'Even': [2, 4, 6, 8], 'pi': 3.14, 'prime': [1, 3, 5, 7]}"
      ]
     },
     "execution_count": 200,
     "metadata": {},
     "output_type": "execute_result"
    }
   ],
   "source": [
    "a.update({'fruits':'chiku'})\n",
    "a"
   ]
  },
  {
   "cell_type": "code",
   "execution_count": 201,
   "id": "6161093f",
   "metadata": {},
   "outputs": [
    {
     "data": {
      "text/plain": [
       "{'fruits': 'chiku', 'Even': [2, 4, 6, 8], 'pi': 3.14, 'prime': [1, 3, 5, 7]}"
      ]
     },
     "execution_count": 201,
     "metadata": {},
     "output_type": "execute_result"
    }
   ],
   "source": [
    "a"
   ]
  },
  {
   "cell_type": "code",
   "execution_count": 204,
   "id": "548b2f38",
   "metadata": {},
   "outputs": [
    {
     "name": "stdout",
     "output_type": "stream",
     "text": [
      "{'Even': [2, 4, 6, 8], 'pi': 3.14}\n"
     ]
    }
   ],
   "source": [
    "#pop to remove\n",
    "a = {\n",
    "    'fruits':['mango','apple','banana'],\n",
    "    'Even':[2,4,6,8], \n",
    "    'pi':3.14\n",
    "}\n",
    "a.pop('fruits')\n",
    "print(a)"
   ]
  },
  {
   "cell_type": "code",
   "execution_count": 207,
   "id": "d6347030",
   "metadata": {},
   "outputs": [
    {
     "name": "stdout",
     "output_type": "stream",
     "text": [
      "{'fruits': ['mango', 'apple', 'banana'], 'Even': [2, 4, 6, 8]}\n"
     ]
    }
   ],
   "source": [
    "#Remove the last item from the dictionary: using pop item \n",
    "a = {\n",
    "    'fruits':['mango','apple','banana'],\n",
    "    'Even':[2,4,6,8], \n",
    "    'pi':3.14\n",
    "}\n",
    "a.popitem()\n",
    "print(a)"
   ]
  },
  {
   "cell_type": "code",
   "execution_count": 205,
   "id": "4e0ca9c7",
   "metadata": {},
   "outputs": [
    {
     "name": "stdout",
     "output_type": "stream",
     "text": [
      "{'fruits': ['mango', 'apple', 'banana'], 'Even': [2, 4, 6, 8], 'pi': 3.14}\n"
     ]
    }
   ],
   "source": [
    "#copy the dictionary in to new dictionary using copy\n",
    "a = {\n",
    "    'fruits':['mango','apple','banana'],\n",
    "    'Even':[2,4,6,8], \n",
    "    'pi':3.14\n",
    "}\n",
    "newdict = a.copy()\n",
    "print(newdict)"
   ]
  },
  {
   "cell_type": "code",
   "execution_count": 206,
   "id": "fbdff334",
   "metadata": {},
   "outputs": [
    {
     "name": "stdout",
     "output_type": "stream",
     "text": [
      "{'fruits': ['mango', 'apple', 'banana'], 'Even': [2, 4, 6, 8], 'pi': 3.14}\n"
     ]
    }
   ],
   "source": [
    "#copy the dictionary in to new dictionary using dict\n",
    "a = {\n",
    "    'fruits':['mango','apple','banana'],\n",
    "    'Even':[2,4,6,8], \n",
    "    'pi':3.14\n",
    "}\n",
    "newdict = dict(a)\n",
    "print(newdict)"
   ]
  },
  {
   "cell_type": "code",
   "execution_count": 193,
   "id": "febf4bf2",
   "metadata": {},
   "outputs": [],
   "source": [
    "# delete on;y one key value pair\n",
    "del a['fruits']\n"
   ]
  },
  {
   "cell_type": "code",
   "execution_count": 194,
   "id": "071cdb8a",
   "metadata": {},
   "outputs": [
    {
     "data": {
      "text/plain": [
       "{'Even': [2, 4, 6, 8], 'pi': 3.14}"
      ]
     },
     "execution_count": 194,
     "metadata": {},
     "output_type": "execute_result"
    }
   ],
   "source": [
    "a"
   ]
  },
  {
   "cell_type": "code",
   "execution_count": 195,
   "id": "4a9bc340",
   "metadata": {},
   "outputs": [],
   "source": [
    "# delete the whole dictionary \n",
    "a.clear()"
   ]
  },
  {
   "cell_type": "code",
   "execution_count": 196,
   "id": "92a5754c",
   "metadata": {},
   "outputs": [
    {
     "data": {
      "text/plain": [
       "{}"
      ]
     },
     "execution_count": 196,
     "metadata": {},
     "output_type": "execute_result"
    }
   ],
   "source": [
    "a"
   ]
  },
  {
   "cell_type": "code",
   "execution_count": 212,
   "id": "5c851207",
   "metadata": {},
   "outputs": [
    {
     "name": "stdout",
     "output_type": "stream",
     "text": [
      "Mustang\n"
     ]
    }
   ],
   "source": [
    "# set default (to get value only) (showing model mustang because the value is their in the dict )\n",
    "car = {\n",
    "  \"brand\": \"Ford\",\n",
    "  \"model\": \"Mustang\",\n",
    "  \"year\": 1964\n",
    "}\n",
    "\n",
    "x = car.setdefault(\"model\",'bamu')\n",
    "\n",
    "print(x)"
   ]
  },
  {
   "cell_type": "code",
   "execution_count": 213,
   "id": "679c3d63",
   "metadata": {},
   "outputs": [
    {
     "name": "stdout",
     "output_type": "stream",
     "text": [
      "yellow\n"
     ]
    }
   ],
   "source": [
    "#(what if the  value is not their in the dict ) these willl pass the value the value which we have pass as value in the print statement \n",
    "car = {\n",
    "  \"brand\": \"Ford\",\n",
    "  \"model\": \"Mustang\",\n",
    "  \"year\": 1964\n",
    "}\n",
    "\n",
    "x = car.setdefault(\"colur\",'yellow')\n",
    "\n",
    "print(x)"
   ]
  },
  {
   "cell_type": "markdown",
   "id": "8b7b26d9",
   "metadata": {},
   "source": [
    "# Range"
   ]
  },
  {
   "cell_type": "code",
   "execution_count": 216,
   "id": "b61eb634",
   "metadata": {},
   "outputs": [],
   "source": [
    "#The range() function returns a sequence of numbers, starting from 0 by default, and increments by 1 (by default),\n",
    "#and ends at a specified number."
   ]
  },
  {
   "cell_type": "code",
   "execution_count": 217,
   "id": "0aa07c13",
   "metadata": {},
   "outputs": [
    {
     "name": "stdout",
     "output_type": "stream",
     "text": [
      "0\n",
      "1\n",
      "2\n",
      "3\n",
      "4\n",
      "5\n"
     ]
    }
   ],
   "source": [
    "for x in range(6):\n",
    "    print(x)"
   ]
  },
  {
   "cell_type": "code",
   "execution_count": 224,
   "id": "6ce144c7",
   "metadata": {},
   "outputs": [
    {
     "ename": "TypeError",
     "evalue": "'list' object is not callable",
     "output_type": "error",
     "traceback": [
      "\u001b[1;31m---------------------------------------------------------------------------\u001b[0m",
      "\u001b[1;31mTypeError\u001b[0m                                 Traceback (most recent call last)",
      "\u001b[1;32m~\\AppData\\Local\\Temp/ipykernel_3596/1839134657.py\u001b[0m in \u001b[0;36m<module>\u001b[1;34m\u001b[0m\n\u001b[1;32m----> 1\u001b[1;33m \u001b[0mprint\u001b[0m\u001b[1;33m(\u001b[0m\u001b[0mlist\u001b[0m\u001b[1;33m(\u001b[0m\u001b[0mrange\u001b[0m\u001b[1;33m(\u001b[0m\u001b[1;36m5\u001b[0m\u001b[1;33m)\u001b[0m\u001b[1;33m)\u001b[0m\u001b[1;33m)\u001b[0m\u001b[1;33m\u001b[0m\u001b[1;33m\u001b[0m\u001b[0m\n\u001b[0m",
      "\u001b[1;31mTypeError\u001b[0m: 'list' object is not callable"
     ]
    }
   ],
   "source": [
    "list(range(5))"
   ]
  },
  {
   "cell_type": "code",
   "execution_count": 230,
   "id": "3d4c977b",
   "metadata": {},
   "outputs": [
    {
     "ename": "TypeError",
     "evalue": "'list' object is not callable",
     "output_type": "error",
     "traceback": [
      "\u001b[1;31m---------------------------------------------------------------------------\u001b[0m",
      "\u001b[1;31mTypeError\u001b[0m                                 Traceback (most recent call last)",
      "\u001b[1;32m~\\AppData\\Local\\Temp/ipykernel_3596/968047826.py\u001b[0m in \u001b[0;36m<module>\u001b[1;34m\u001b[0m\n\u001b[1;32m----> 1\u001b[1;33m \u001b[0mlist\u001b[0m\u001b[1;33m(\u001b[0m\u001b[0mrange\u001b[0m\u001b[1;33m(\u001b[0m\u001b[1;36m2\u001b[0m\u001b[1;33m,\u001b[0m\u001b[1;36m15\u001b[0m\u001b[1;33m,\u001b[0m\u001b[1;36m3\u001b[0m\u001b[1;33m)\u001b[0m\u001b[1;33m)\u001b[0m\u001b[1;33m\u001b[0m\u001b[1;33m\u001b[0m\u001b[0m\n\u001b[0m",
      "\u001b[1;31mTypeError\u001b[0m: 'list' object is not callable"
     ]
    }
   ],
   "source": [
    "list(range(2,15,3))"
   ]
  },
  {
   "cell_type": "code",
   "execution_count": 231,
   "id": "8eb08e9d",
   "metadata": {},
   "outputs": [
    {
     "name": "stdout",
     "output_type": "stream",
     "text": [
      "5\n",
      "10\n",
      "15\n",
      "20\n",
      "25\n",
      "30\n",
      "35\n",
      "40\n",
      "45\n",
      "50\n"
     ]
    }
   ],
   "source": [
    "for x in range(5,55,5):\n",
    "    print(x)"
   ]
  },
  {
   "cell_type": "code",
   "execution_count": 232,
   "id": "b8d52b6f",
   "metadata": {},
   "outputs": [
    {
     "name": "stdout",
     "output_type": "stream",
     "text": [
      "[0, 1, 2, 3, 4, 5, 6, 7, 8, 9, 10]\n"
     ]
    }
   ],
   "source": [
    "x =  0 \n",
    "someList = []\n",
    "for x  in range(20):\n",
    "    someList.append(x)\n",
    "    if(x==10):\n",
    "        break\n",
    "print(someList)"
   ]
  },
  {
   "cell_type": "code",
   "execution_count": 233,
   "id": "4649d756",
   "metadata": {},
   "outputs": [
    {
     "name": "stdout",
     "output_type": "stream",
     "text": [
      "[1, 2, 3, 4, 6, 7, 8, 9, 11, 12, 13, 14, 16, 17, 18, 19]\n"
     ]
    }
   ],
   "source": [
    "x =  0 \n",
    "someList = []\n",
    "for x  in range(20): \n",
    "    if(x%5==0):\n",
    "        continue\n",
    "    someList.append(x)\n",
    "print(someList)"
   ]
  },
  {
   "cell_type": "markdown",
   "id": "9629d8c8",
   "metadata": {},
   "source": [
    "# Functions"
   ]
  },
  {
   "cell_type": "code",
   "execution_count": 256,
   "id": "98fb1561",
   "metadata": {},
   "outputs": [],
   "source": [
    "def add(a,b):    \n",
    "    c= a+b\n",
    "    return c"
   ]
  },
  {
   "cell_type": "code",
   "execution_count": 257,
   "id": "37111992",
   "metadata": {},
   "outputs": [
    {
     "data": {
      "text/plain": [
       "14"
      ]
     },
     "execution_count": 257,
     "metadata": {},
     "output_type": "execute_result"
    }
   ],
   "source": [
    "add(7,7)"
   ]
  },
  {
   "cell_type": "code",
   "execution_count": 258,
   "id": "0692fcff",
   "metadata": {},
   "outputs": [],
   "source": [
    "def sub(a,b):\n",
    "    c = a-b\n",
    "    return c\n"
   ]
  },
  {
   "cell_type": "code",
   "execution_count": 259,
   "id": "b9478723",
   "metadata": {
    "scrolled": true
   },
   "outputs": [
    {
     "data": {
      "text/plain": [
       "-10"
      ]
     },
     "execution_count": 259,
     "metadata": {},
     "output_type": "execute_result"
    }
   ],
   "source": [
    "sub(-1,9)"
   ]
  },
  {
   "cell_type": "code",
   "execution_count": 260,
   "id": "20006aeb",
   "metadata": {},
   "outputs": [],
   "source": [
    "def add1(a,b=5):   \n",
    "    c= a+b\n",
    "    return c"
   ]
  },
  {
   "cell_type": "code",
   "execution_count": 251,
   "id": "61edd333",
   "metadata": {},
   "outputs": [
    {
     "data": {
      "text/plain": [
       "18"
      ]
     },
     "execution_count": 251,
     "metadata": {},
     "output_type": "execute_result"
    }
   ],
   "source": [
    "add1(13) # 13+5 = 18"
   ]
  },
  {
   "cell_type": "code",
   "execution_count": 253,
   "id": "e79e0c54",
   "metadata": {},
   "outputs": [],
   "source": [
    "def sub1(a,b=0):\n",
    "    c = a-b\n",
    "    return c"
   ]
  },
  {
   "cell_type": "code",
   "execution_count": 254,
   "id": "cbae97e8",
   "metadata": {},
   "outputs": [
    {
     "data": {
      "text/plain": [
       "10"
      ]
     },
     "execution_count": 254,
     "metadata": {},
     "output_type": "execute_result"
    }
   ],
   "source": [
    "sub1(10)"
   ]
  },
  {
   "cell_type": "code",
   "execution_count": 255,
   "id": "44c93a9d",
   "metadata": {},
   "outputs": [
    {
     "data": {
      "text/plain": [
       "-9"
      ]
     },
     "execution_count": 255,
     "metadata": {},
     "output_type": "execute_result"
    }
   ],
   "source": [
    "sub1(10,19)"
   ]
  },
  {
   "cell_type": "code",
   "execution_count": 235,
   "id": "09926af4",
   "metadata": {
    "scrolled": true
   },
   "outputs": [
    {
     "name": "stdout",
     "output_type": "stream",
     "text": [
      "kamini nakte\n",
      "chaitali nakte\n",
      "manthan nakte\n"
     ]
    }
   ],
   "source": [
    "def function(a):\n",
    "  print(a + \" nakte\")\n",
    "\n",
    "function(\"kamini\")\n",
    "function(\"chaitali\")\n",
    "function(\"manthan\")\n"
   ]
  },
  {
   "cell_type": "code",
   "execution_count": null,
   "id": "ec3946af",
   "metadata": {},
   "outputs": [],
   "source": [
    "#pass function"
   ]
  },
  {
   "cell_type": "code",
   "execution_count": 263,
   "id": "94f907a0",
   "metadata": {},
   "outputs": [],
   "source": [
    "def myfunction():\n",
    "    \n",
    "    pass\n",
    "\n",
    "# having an empty function definition like this, would raise an error without the pass statement"
   ]
  },
  {
   "cell_type": "markdown",
   "id": "d694c8bb",
   "metadata": {},
   "source": [
    "# lambda"
   ]
  },
  {
   "cell_type": "code",
   "execution_count": 269,
   "id": "831d5bc3",
   "metadata": {},
   "outputs": [],
   "source": [
    "#one agrument \n",
    "x = lambda a: a*a"
   ]
  },
  {
   "cell_type": "code",
   "execution_count": 271,
   "id": "37e54a47",
   "metadata": {},
   "outputs": [
    {
     "name": "stdout",
     "output_type": "stream",
     "text": [
      "9\n"
     ]
    }
   ],
   "source": [
    "print(x(3))"
   ]
  },
  {
   "cell_type": "code",
   "execution_count": 272,
   "id": "4c5aa014",
   "metadata": {},
   "outputs": [],
   "source": [
    "#numbers of arguments\n",
    "x = lambda a,b,c: a*b+c"
   ]
  },
  {
   "cell_type": "code",
   "execution_count": 273,
   "id": "3bc93c44",
   "metadata": {},
   "outputs": [
    {
     "name": "stdout",
     "output_type": "stream",
     "text": [
      "5\n"
     ]
    }
   ],
   "source": [
    "print(x(1,2,3))"
   ]
  },
  {
   "cell_type": "code",
   "execution_count": 277,
   "id": "ae3a200e",
   "metadata": {},
   "outputs": [],
   "source": [
    "x = lambda a,b,c: a*b+10-c"
   ]
  },
  {
   "cell_type": "code",
   "execution_count": 278,
   "id": "90dab47a",
   "metadata": {},
   "outputs": [
    {
     "name": "stdout",
     "output_type": "stream",
     "text": [
      "3\n"
     ]
    }
   ],
   "source": [
    "print(x(1,2,9))"
   ]
  },
  {
   "cell_type": "code",
   "execution_count": null,
   "id": "5f37bf55",
   "metadata": {},
   "outputs": [],
   "source": []
  }
 ],
 "metadata": {
  "kernelspec": {
   "display_name": "Python 3",
   "language": "python",
   "name": "python3"
  },
  "language_info": {
   "codemirror_mode": {
    "name": "ipython",
    "version": 3
   },
   "file_extension": ".py",
   "mimetype": "text/x-python",
   "name": "python",
   "nbconvert_exporter": "python",
   "pygments_lexer": "ipython3",
   "version": "3.8.2"
  }
 },
 "nbformat": 4,
 "nbformat_minor": 5
}

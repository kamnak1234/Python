{
  "nbformat": 4,
  "nbformat_minor": 0,
  "metadata": {
    "colab": {
      "provenance": []
    },
    "kernelspec": {
      "name": "python3",
      "display_name": "Python 3"
    },
    "language_info": {
      "name": "python"
    }
  },
  "cells": [
    {
      "cell_type": "code",
      "source": [
        "import math as m"
      ],
      "metadata": {
        "id": "K5gJvwI-ZgFV"
      },
      "execution_count": null,
      "outputs": []
    },
    {
      "cell_type": "code",
      "source": [
        "#acos() = Returns the arc cosine of a number\n",
        "print(m.acos(0.55))\n",
        "print(m.acos(-0.55))"
      ],
      "metadata": {
        "colab": {
          "base_uri": "https://localhost:8080/"
        },
        "id": "4rGYVgDmZkz1",
        "outputId": "aafc6d27-3f43-44ca-e51a-630a702c2a23"
      },
      "execution_count": null,
      "outputs": [
        {
          "output_type": "stream",
          "name": "stdout",
          "text": [
            "0.9884320889261531\n",
            "2.15316056466364\n"
          ]
        }
      ]
    },
    {
      "cell_type": "code",
      "source": [
        "#math.acosh() = Returns the inverse hyperbolic cosine of a number\n",
        "print(m.acosh(7))\n",
        "print(m.acosh(4.9))"
      ],
      "metadata": {
        "colab": {
          "base_uri": "https://localhost:8080/"
        },
        "id": "w_Lc5d6xZqil",
        "outputId": "d2242115-3b16-41a5-8f37-5900ec996af4"
      },
      "execution_count": null,
      "outputs": [
        {
          "output_type": "stream",
          "name": "stdout",
          "text": [
            "2.6339157938496336\n",
            "2.27180356368105\n"
          ]
        }
      ]
    },
    {
      "cell_type": "code",
      "source": [
        "#math.asin() = Returns the arc sine of a number\n",
        "print(m.asin(0.55))\n",
        "print(m.asin(-0.55))"
      ],
      "metadata": {
        "colab": {
          "base_uri": "https://localhost:8080/"
        },
        "id": "UC_9zgXdaESl",
        "outputId": "63327d04-ae24-49aa-e524-8f2cc04675a3"
      },
      "execution_count": null,
      "outputs": [
        {
          "output_type": "stream",
          "name": "stdout",
          "text": [
            "0.5823642378687435\n",
            "-0.5823642378687435\n"
          ]
        }
      ]
    },
    {
      "cell_type": "code",
      "source": [
        "#math.asinh() = Returns the inverse hyperbolic sine of a number\n",
        "print(m.asinh(7))\n",
        "print(m.asinh(4.9))"
      ],
      "metadata": {
        "colab": {
          "base_uri": "https://localhost:8080/"
        },
        "id": "uRIuUvp4aU2V",
        "outputId": "7a0546f8-7480-4fbf-9fe6-85cbe621f5ca"
      },
      "execution_count": null,
      "outputs": [
        {
          "output_type": "stream",
          "name": "stdout",
          "text": [
            "2.644120761058629\n",
            "2.292635752042407\n"
          ]
        }
      ]
    },
    {
      "cell_type": "code",
      "source": [
        "#math.atan() =\tReturns the arc tangent of a number in radians\n",
        "print (m.atan(0.39))\n",
        "print (m.atan(67)) "
      ],
      "metadata": {
        "colab": {
          "base_uri": "https://localhost:8080/"
        },
        "id": "rntU4K71amJG",
        "outputId": "8215f2f6-6f00-4e86-fe0f-a87fc9db5454"
      },
      "execution_count": null,
      "outputs": [
        {
          "output_type": "stream",
          "name": "stdout",
          "text": [
            "0.37185607384858127\n",
            "1.5558720618048116\n"
          ]
        }
      ]
    },
    {
      "cell_type": "code",
      "source": [
        "#math.atan2() = Returns the arc tangent of y/x in radians \n",
        "print(m.atan2(8, 5))\n",
        "print(m.atan2(20, 10))"
      ],
      "metadata": {
        "colab": {
          "base_uri": "https://localhost:8080/"
        },
        "id": "jOLt8LBRbAym",
        "outputId": "1b0f11b6-44d9-4e88-e5ca-14232be011f3"
      },
      "execution_count": null,
      "outputs": [
        {
          "output_type": "stream",
          "name": "stdout",
          "text": [
            "1.0121970114513341\n",
            "1.1071487177940904\n"
          ]
        }
      ]
    },
    {
      "cell_type": "code",
      "source": [
        "#math.atanh() = Returns the inverse hyperbolic tangent of a number\n",
        "print(m.atanh(0.59))\n",
        "print(m.atanh(-0.12))"
      ],
      "metadata": {
        "colab": {
          "base_uri": "https://localhost:8080/"
        },
        "id": "h44tl2f5bJBW",
        "outputId": "a7ed2613-8373-493a-856d-388c6e5fa89b"
      },
      "execution_count": null,
      "outputs": [
        {
          "output_type": "stream",
          "name": "stdout",
          "text": [
            "0.6776660677579618\n",
            "-0.12058102840844404\n"
          ]
        }
      ]
    },
    {
      "cell_type": "code",
      "source": [
        "#math.ceil() = Rounds a number up to the nearest integer\n",
        "print(m.ceil(1.4))\n",
        "print(m.ceil(5.3))"
      ],
      "metadata": {
        "colab": {
          "base_uri": "https://localhost:8080/"
        },
        "id": "o890LiOzbWP2",
        "outputId": "b5516b29-7c3b-4511-cb72-9aca59aa42b4"
      },
      "execution_count": null,
      "outputs": [
        {
          "output_type": "stream",
          "name": "stdout",
          "text": [
            "2\n",
            "6\n"
          ]
        }
      ]
    },
    {
      "cell_type": "code",
      "source": [
        "#math.comb() = Returns the number of ways to choose k items from n items without repetition and order\n",
        "\n",
        "# Initialize the number of items to choose from\n",
        "n = 7\n",
        "\n",
        "# Initialize the number of possibilities to choose\n",
        "k = 5\n",
        "\n",
        "# Print total number of possible combinations\n",
        "print (m.comb(n, k))"
      ],
      "metadata": {
        "colab": {
          "base_uri": "https://localhost:8080/"
        },
        "id": "1ebb6XKwbodu",
        "outputId": "0750daac-b8db-4b3a-be4d-e8e200a6ac0c"
      },
      "execution_count": null,
      "outputs": [
        {
          "output_type": "stream",
          "name": "stdout",
          "text": [
            "21\n"
          ]
        }
      ]
    },
    {
      "cell_type": "code",
      "source": [
        "#math.copysign() = Returns a float consisting of the value of the first parameter and the sign of the second parameter\n",
        "#Return the value of the first parameter and the sign of the second parameter\n",
        "print(m.copysign(4, -1))\n",
        "print(m.copysign(-8, 97.21))\n",
        "print(m.copysign(4, 1))"
      ],
      "metadata": {
        "colab": {
          "base_uri": "https://localhost:8080/"
        },
        "id": "vwyIDk-scDH2",
        "outputId": "862431ae-fcf4-4142-e01e-7c814e79ebc5"
      },
      "execution_count": null,
      "outputs": [
        {
          "output_type": "stream",
          "name": "stdout",
          "text": [
            "-4.0\n",
            "8.0\n",
            "4.0\n"
          ]
        }
      ]
    },
    {
      "cell_type": "code",
      "source": [
        "#math.cos() = Returns the cosine of a number (Including negative)\n",
        "print (m.cos(0.00))\n",
        "print (m.cos(-1.23))"
      ],
      "metadata": {
        "colab": {
          "base_uri": "https://localhost:8080/"
        },
        "id": "LxmuNJ-CcNtG",
        "outputId": "abb36d7e-0aa5-473e-e84e-c43832e53551"
      },
      "execution_count": null,
      "outputs": [
        {
          "output_type": "stream",
          "name": "stdout",
          "text": [
            "1.0\n",
            "0.3342377271245026\n"
          ]
        }
      ]
    },
    {
      "cell_type": "code",
      "source": [
        "#math.cosh() =\tReturns the hyperbolic cosine of a number\n",
        "print (m.cosh(1))\n",
        "print (m.cosh(8.90)) "
      ],
      "metadata": {
        "colab": {
          "base_uri": "https://localhost:8080/"
        },
        "id": "tAXNM44kcm1W",
        "outputId": "632a1d4c-932a-41de-eaed-be30bb732db7"
      },
      "execution_count": null,
      "outputs": [
        {
          "output_type": "stream",
          "name": "stdout",
          "text": [
            "1.5430806348152437\n",
            "3665.986837772461\n"
          ]
        }
      ]
    },
    {
      "cell_type": "code",
      "source": [
        "#math.degrees() = Converts an angle from radians to degrees\n",
        "print (m.degrees(8.90))\n",
        "print (m.degrees(-20)) "
      ],
      "metadata": {
        "colab": {
          "base_uri": "https://localhost:8080/"
        },
        "id": "Ix8e-s-Cfe74",
        "outputId": "be82187a-16d3-417e-af51-f5bb51efa5a4"
      },
      "execution_count": null,
      "outputs": [
        {
          "output_type": "stream",
          "name": "stdout",
          "text": [
            "509.9324376664327\n",
            "-1145.9155902616465\n"
          ]
        }
      ]
    },
    {
      "cell_type": "code",
      "source": [
        "#math.dist() =\tReturns the Euclidean distance between two points (p and q), where p and q are the coordinates of that point\n",
        "p = [3]\n",
        "q = [1]\n",
        "\n",
        "# Calculate Euclidean distance\n",
        "print (m.dist(p, q))"
      ],
      "metadata": {
        "colab": {
          "base_uri": "https://localhost:8080/"
        },
        "id": "ON_Y2dBsfr7n",
        "outputId": "43dd01e5-1adc-4d78-9b38-0e0a9a8386d8"
      },
      "execution_count": null,
      "outputs": [
        {
          "output_type": "stream",
          "name": "stdout",
          "text": [
            "2.0\n"
          ]
        }
      ]
    },
    {
      "cell_type": "code",
      "source": [
        "#math.erf() =\tReturns the error function of a number\n",
        "print (m.erf(0.67))\n",
        "print (m.erf(1.34))"
      ],
      "metadata": {
        "colab": {
          "base_uri": "https://localhost:8080/"
        },
        "id": "VhPcMXHGf0v3",
        "outputId": "e610e217-83ae-4e91-aa01-2d20ef615af6"
      },
      "execution_count": null,
      "outputs": [
        {
          "output_type": "stream",
          "name": "stdout",
          "text": [
            "0.6566277023003051\n",
            "0.9419137152583653\n"
          ]
        }
      ]
    },
    {
      "cell_type": "code",
      "source": [
        "#math.erfc() =\tReturns the complementary error function of a number \n",
        "print (m.erfc(0.67))\n",
        "print (m.erfc(1.34))"
      ],
      "metadata": {
        "colab": {
          "base_uri": "https://localhost:8080/"
        },
        "id": "KBJImuzmgRC2",
        "outputId": "b5e67921-0d0d-440a-f78b-4687ed62ae65"
      },
      "execution_count": null,
      "outputs": [
        {
          "output_type": "stream",
          "name": "stdout",
          "text": [
            "0.3433722976996949\n",
            "0.058086284741634665\n"
          ]
        }
      ]
    },
    {
      "cell_type": "code",
      "source": [
        "#math.exp() =\tReturns E raised to the power of x\n",
        "print(m.exp(65))\n",
        "print(m.exp(-6.89)) \n"
      ],
      "metadata": {
        "colab": {
          "base_uri": "https://localhost:8080/"
        },
        "id": "3yRzhJiyge43",
        "outputId": "cc86d42a-f03a-46b4-80e5-d407869cc61f"
      },
      "execution_count": null,
      "outputs": [
        {
          "output_type": "stream",
          "name": "stdout",
          "text": [
            "1.6948892444103338e+28\n",
            "0.0010179138409954387\n"
          ]
        }
      ]
    },
    {
      "cell_type": "code",
      "source": [
        "#math.expm1() =\tReturns Ex - 1\n",
        "print(m.expm1(32))\n",
        "print(m.expm1(-10.89)) "
      ],
      "metadata": {
        "colab": {
          "base_uri": "https://localhost:8080/"
        },
        "id": "N1KIYeTPgqhH",
        "outputId": "92f2ca01-ad83-4ea7-cde4-bbf9ae318023"
      },
      "execution_count": null,
      "outputs": [
        {
          "output_type": "stream",
          "name": "stdout",
          "text": [
            "78962960182679.69\n",
            "-0.9999813562576685\n"
          ]
        }
      ]
    },
    {
      "cell_type": "code",
      "source": [
        "#math.fabs() =\tReturns the absolute value of a number\n",
        "print(m.fabs(-66.43))"
      ],
      "metadata": {
        "colab": {
          "base_uri": "https://localhost:8080/"
        },
        "id": "8NBudzJAg91A",
        "outputId": "246f30dc-9404-4a3e-e3f1-f8be4d4d6a13"
      },
      "execution_count": null,
      "outputs": [
        {
          "output_type": "stream",
          "name": "stdout",
          "text": [
            "66.43\n"
          ]
        }
      ]
    },
    {
      "cell_type": "code",
      "source": [
        "#math.factorial() = Returns the factorial of a number (Negative correlation factorial error) \n",
        "print(m.factorial(9))"
      ],
      "metadata": {
        "colab": {
          "base_uri": "https://localhost:8080/"
        },
        "id": "8UkxbHmMhHxQ",
        "outputId": "2525ee61-b566-444d-8324-5344741b314c"
      },
      "execution_count": null,
      "outputs": [
        {
          "output_type": "stream",
          "name": "stdout",
          "text": [
            "362880\n"
          ]
        }
      ]
    },
    {
      "cell_type": "code",
      "source": [
        "#math.floor() =\tRounds a number down to the nearest integer (If passes negative value then the result is roundup pattern but not same for the positive)\n",
        "print(m.floor(0.9))\n",
        "print(m.floor(-9.9))"
      ],
      "metadata": {
        "colab": {
          "base_uri": "https://localhost:8080/"
        },
        "id": "uTisBAqehZB_",
        "outputId": "350a2232-2b67-4060-9b2e-dd1aeff34af1"
      },
      "execution_count": null,
      "outputs": [
        {
          "output_type": "stream",
          "name": "stdout",
          "text": [
            "0\n",
            "-10\n"
          ]
        }
      ]
    },
    {
      "cell_type": "code",
      "source": [
        "#math.fmod() =\tReturns the remainder of x/y\n",
        "# Return the remainder of x/y\n",
        "print(m.fmod(20, 4))\n",
        "print(m.fmod(20, 3))"
      ],
      "metadata": {
        "colab": {
          "base_uri": "https://localhost:8080/"
        },
        "id": "eoVj1C3Jh7rR",
        "outputId": "4b942fd8-9306-41b8-db8c-4eef554165c0"
      },
      "execution_count": null,
      "outputs": [
        {
          "output_type": "stream",
          "name": "stdout",
          "text": [
            "0.0\n",
            "2.0\n"
          ]
        }
      ]
    },
    {
      "cell_type": "code",
      "source": [
        "#math.frexp() =\tReturns the mantissa and the exponent, of a specified number\n",
        "#Return mantissa and exponent of numbers\n",
        "#The mantissa is a decimal fixed-point constant.\n",
        "print(m.frexp(4))"
      ],
      "metadata": {
        "colab": {
          "base_uri": "https://localhost:8080/"
        },
        "id": "w57cHY1FiZ5v",
        "outputId": "3e0fc441-aff9-4df3-8874-9148bf75dccc"
      },
      "execution_count": null,
      "outputs": [
        {
          "output_type": "stream",
          "name": "stdout",
          "text": [
            "(0.5, 3)\n"
          ]
        }
      ]
    },
    {
      "cell_type": "code",
      "source": [
        "#math.fsum() = \tReturns the sum of all items in any iterable \n",
        "print(m.fsum([1, 2, 3, 4, 5]))"
      ],
      "metadata": {
        "colab": {
          "base_uri": "https://localhost:8080/"
        },
        "id": "VshTO9tMjwoA",
        "outputId": "c10cba8b-b179-4628-f876-291399979947"
      },
      "execution_count": null,
      "outputs": [
        {
          "output_type": "stream",
          "name": "stdout",
          "text": [
            "15.0\n"
          ]
        }
      ]
    },
    {
      "cell_type": "code",
      "source": [
        "#math.gamma() =\tReturns the gamma function at x\n",
        "print(m.gamma(-0.1))\n",
        "print(m.gamma(8))"
      ],
      "metadata": {
        "colab": {
          "base_uri": "https://localhost:8080/"
        },
        "id": "u8lQB3rfkLQY",
        "outputId": "b44fff63-ccc1-430d-92fc-7d1945f39791"
      },
      "execution_count": null,
      "outputs": [
        {
          "output_type": "stream",
          "name": "stdout",
          "text": [
            "-10.686287021193193\n",
            "5040.0\n"
          ]
        }
      ]
    },
    {
      "cell_type": "code",
      "source": [
        "#math.gcd() =\tReturns the greatest common divisor of two integers (Restrict to two integers)\n",
        "#find the  the greatest common divisor of the two integers\n",
        "print (m.gcd(3, 6))\n",
        "print (m.gcd(6, 12))"
      ],
      "metadata": {
        "colab": {
          "base_uri": "https://localhost:8080/"
        },
        "id": "UCioVla6kdZR",
        "outputId": "9e459245-b3ce-4ea4-96af-615641f3778b"
      },
      "execution_count": null,
      "outputs": [
        {
          "output_type": "stream",
          "name": "stdout",
          "text": [
            "3\n",
            "6\n"
          ]
        }
      ]
    },
    {
      "cell_type": "code",
      "source": [
        "#math.hypot() =\tReturns the Euclidean norm\n",
        "#set perpendicular and base\n",
        "perpendicular = 10\n",
        "base = 5\n",
        "\n",
        "#print the hypotenuse of a right-angled triangle\n",
        "print(m.hypot(perpendicular, base)) "
      ],
      "metadata": {
        "colab": {
          "base_uri": "https://localhost:8080/"
        },
        "id": "gsmq81Fakk6w",
        "outputId": "5a5b1ade-eb46-44ce-8ed4-e012a850ad61"
      },
      "execution_count": null,
      "outputs": [
        {
          "output_type": "stream",
          "name": "stdout",
          "text": [
            "11.180339887498949\n"
          ]
        }
      ]
    },
    {
      "cell_type": "code",
      "source": [
        "#math.isclose() =\tChecks whether two values are close to each other, or not (Exact Similar) output as a boolean datatype\n",
        "print(m.isclose(1.233, 1.4566))\n",
        "print(m.isclose(1.233, 1.233))\n",
        "print(m.isclose(1, 2))"
      ],
      "metadata": {
        "colab": {
          "base_uri": "https://localhost:8080/"
        },
        "id": "R3bQpMfvk8SI",
        "outputId": "c6ac42c0-f179-40fa-ceb6-40ffaa596554"
      },
      "execution_count": null,
      "outputs": [
        {
          "output_type": "stream",
          "name": "stdout",
          "text": [
            "False\n",
            "True\n",
            "False\n"
          ]
        }
      ]
    },
    {
      "cell_type": "code",
      "source": [
        "#math.isfinite() =\tChecks whether a number is finite or not # This method returns True if the specified number is a finite number, otherwise it returns False.\n",
        "print(m.isfinite(2000))\n",
        "print(m.isfinite(0))\n",
        "print(m.isfinite(float(\"nan\")))\n",
        "print(m.isfinite(float(\"inf\")))"
      ],
      "metadata": {
        "colab": {
          "base_uri": "https://localhost:8080/"
        },
        "id": "KQcuNZhmlOuY",
        "outputId": "faa80ce0-af03-4ec5-b253-5c0688a6ac6f"
      },
      "execution_count": null,
      "outputs": [
        {
          "output_type": "stream",
          "name": "stdout",
          "text": [
            "True\n",
            "True\n",
            "False\n",
            "False\n"
          ]
        }
      ]
    },
    {
      "cell_type": "code",
      "source": [
        "# Check whether the values are infinite or not\n",
        "print(m.isinf(56))\n",
        "print(m.isinf(-45.34))\n"
      ],
      "metadata": {
        "colab": {
          "base_uri": "https://localhost:8080/"
        },
        "id": "dcfsHaNdl7ug",
        "outputId": "d89ef656-a454-4d4b-972b-56edbb200d32"
      },
      "execution_count": null,
      "outputs": [
        {
          "output_type": "stream",
          "name": "stdout",
          "text": [
            "False\n",
            "False\n"
          ]
        }
      ]
    },
    {
      "cell_type": "code",
      "source": [
        "#math.isnan() \tChecks whether a value is NaN (not a number) or not\n",
        "print (m.isnan (+45.34))\n",
        "print (m.isnan (float(\"nan\")))"
      ],
      "metadata": {
        "colab": {
          "base_uri": "https://localhost:8080/"
        },
        "id": "Rd5J1fT7mc_C",
        "outputId": "556b16c3-5e3b-4296-a87a-5ff03df7422c"
      },
      "execution_count": null,
      "outputs": [
        {
          "output_type": "stream",
          "name": "stdout",
          "text": [
            "False\n",
            "True\n"
          ]
        }
      ]
    },
    {
      "cell_type": "code",
      "source": [
        "#math.isqrt() =\tRounds a square root number downwards to the nearest integer\n",
        "# Print the square root of different numbers\n",
        "print (m.sqrt(10))\n",
        "print (m.sqrt (12))"
      ],
      "metadata": {
        "colab": {
          "base_uri": "https://localhost:8080/"
        },
        "id": "WytTCAAgnI6B",
        "outputId": "0fe0dd76-ee3f-49a2-eb33-4d9dbabbdb8a"
      },
      "execution_count": null,
      "outputs": [
        {
          "output_type": "stream",
          "name": "stdout",
          "text": [
            "3.1622776601683795\n",
            "3.4641016151377544\n"
          ]
        }
      ]
    },
    {
      "cell_type": "code",
      "source": [
        "print (m.isqrt(10))\n",
        "print (m.isqrt (12))"
      ],
      "metadata": {
        "colab": {
          "base_uri": "https://localhost:8080/"
        },
        "id": "pOTM6wVynVfB",
        "outputId": "27564769-382d-4779-c7ec-ca59c793248e"
      },
      "execution_count": null,
      "outputs": [
        {
          "output_type": "stream",
          "name": "stdout",
          "text": [
            "3\n",
            "3\n"
          ]
        }
      ]
    },
    {
      "cell_type": "code",
      "source": [
        "#math.ldexp() =\tReturns the inverse of math.frexp() which is x * (2**i) of the given numbers x and i \n",
        "print(m.ldexp(9, 3))\n",
        "print(m.ldexp(-5, 2))"
      ],
      "metadata": {
        "colab": {
          "base_uri": "https://localhost:8080/"
        },
        "id": "k0tCixiwnhUZ",
        "outputId": "1d6a4805-391e-4738-bed4-b3dfa4294905"
      },
      "execution_count": null,
      "outputs": [
        {
          "output_type": "stream",
          "name": "stdout",
          "text": [
            "72.0\n",
            "-20.0\n"
          ]
        }
      ]
    },
    {
      "cell_type": "code",
      "source": [
        "#math.lgamma() =\tReturns the log gamma value of x (Hence, the log gamma logarithm converts a one-tailed distribution into a two-tailed.)\n",
        "print(m.lgamma(7))"
      ],
      "metadata": {
        "colab": {
          "base_uri": "https://localhost:8080/"
        },
        "id": "9885RdawoTjB",
        "outputId": "584122ce-ce31-4fec-9bf2-009e7205cc1d"
      },
      "execution_count": null,
      "outputs": [
        {
          "output_type": "stream",
          "name": "stdout",
          "text": [
            "6.579251212010102\n"
          ]
        }
      ]
    },
    {
      "cell_type": "code",
      "source": [
        "#math.log() =\tReturns the natural logarithm of a number, or the logarithm of number to base\n",
        "print(m.log(2.7183))\n",
        "print(m.log(2))"
      ],
      "metadata": {
        "colab": {
          "base_uri": "https://localhost:8080/"
        },
        "id": "uZgwpwCTtA-6",
        "outputId": "4e79fd18-d6aa-4762-b435-a8a9a88f4d87"
      },
      "execution_count": null,
      "outputs": [
        {
          "output_type": "stream",
          "name": "stdout",
          "text": [
            "1.0000066849139877\n",
            "0.6931471805599453\n"
          ]
        }
      ]
    },
    {
      "cell_type": "code",
      "source": [
        "#math.log10() =\tReturns the base-10 logarithm of x\n",
        "# Return the base-10 logarithm of different numbers\n",
        "print(m.log10(2.7183))\n",
        "print(m.log10(2))"
      ],
      "metadata": {
        "colab": {
          "base_uri": "https://localhost:8080/"
        },
        "id": "WM-ckOS1te-T",
        "outputId": "0cccb5bd-4328-4d95-e4f9-fe74650198a8"
      },
      "execution_count": null,
      "outputs": [
        {
          "output_type": "stream",
          "name": "stdout",
          "text": [
            "0.43429738512450866\n",
            "0.3010299956639812\n"
          ]
        }
      ]
    },
    {
      "cell_type": "code",
      "source": [
        "#math.log1p() =\tReturns the natural logarithm of 1+x\n",
        "# Return the log(1+number) for different numbers\n",
        "print(m.log1p(2.7183))\n",
        "print(m.log1p(2))"
      ],
      "metadata": {
        "colab": {
          "base_uri": "https://localhost:8080/"
        },
        "id": "cc_vjrtdt3-l",
        "outputId": "d6f6e041-68f5-4850-f083-8e25165bb5ad"
      },
      "execution_count": null,
      "outputs": [
        {
          "output_type": "stream",
          "name": "stdout",
          "text": [
            "1.3132665745863341\n",
            "1.0986122886681096\n"
          ]
        }
      ]
    },
    {
      "cell_type": "code",
      "source": [
        "#math.log2() =\tReturns the base-2 logarithm of x\n",
        "# Return the base-2 logarithm of different numbers\n",
        "print(m.log2(2.7183))\n",
        "print(m.log2(2))"
      ],
      "metadata": {
        "colab": {
          "base_uri": "https://localhost:8080/"
        },
        "id": "n6FNU0e4IOXp",
        "outputId": "bc1902ce-e6a3-4750-d6af-7f7caf386748"
      },
      "execution_count": null,
      "outputs": [
        {
          "output_type": "stream",
          "name": "stdout",
          "text": [
            "1.4427046851812222\n",
            "1.0\n"
          ]
        }
      ]
    },
    {
      "cell_type": "code",
      "source": [
        "#math.perm() =\tReturns the number of ways to choose k items from n items with order and without repetition (Repeat pattern # work)\n",
        "# Initialize the number of items to choose from\n",
        "n = 7\n",
        "\n",
        "# Initialize the number of items to choose\n",
        "k = 5\n",
        "\n",
        "# Print the number of ways to choose k items from n items\n",
        "print (m.perm(n, k)) "
      ],
      "metadata": {
        "colab": {
          "base_uri": "https://localhost:8080/"
        },
        "id": "9NTGdt-fJnhR",
        "outputId": "ef49e8ec-7382-42e0-866a-0e3f63ba637c"
      },
      "execution_count": null,
      "outputs": [
        {
          "output_type": "stream",
          "name": "stdout",
          "text": [
            "2520\n"
          ]
        }
      ]
    },
    {
      "cell_type": "code",
      "source": [
        "#math.pow() =\tReturns the value of x to the power of y\n",
        "#Return the value of 9 raised to the power of 3\n",
        "print(m.pow(9, 3))"
      ],
      "metadata": {
        "colab": {
          "base_uri": "https://localhost:8080/"
        },
        "id": "jWvn3DGyKAbZ",
        "outputId": "a9aff829-1a13-4722-e1a7-a697212e2aff"
      },
      "execution_count": null,
      "outputs": [
        {
          "output_type": "stream",
          "name": "stdout",
          "text": [
            "729.0\n"
          ]
        }
      ]
    },
    {
      "cell_type": "code",
      "source": [
        "#math.prod() =\tReturns the product(*) of all the elements in an iterable\n",
        "sequence = (2, 2, 2)\n",
        "\n",
        "#Return the product of the elements\n",
        "print(m.prod(sequence)) "
      ],
      "metadata": {
        "colab": {
          "base_uri": "https://localhost:8080/"
        },
        "id": "fHs4DKvNKYcy",
        "outputId": "92187e09-88a4-4049-e06b-4b1669ff18b1"
      },
      "execution_count": null,
      "outputs": [
        {
          "output_type": "stream",
          "name": "stdout",
          "text": [
            "8\n"
          ]
        }
      ]
    },
    {
      "cell_type": "code",
      "source": [
        "#math.radians() =\tConverts a degree value into radians (validate with respect to the radians)\n",
        "print(m.radians(10))\n",
        "print(m.radians(-0.165))"
      ],
      "metadata": {
        "colab": {
          "base_uri": "https://localhost:8080/"
        },
        "id": "xewRe6N9KfwZ",
        "outputId": "1877eb9f-d84c-46c3-c659-d41fc8ae8e23"
      },
      "execution_count": null,
      "outputs": [
        {
          "output_type": "stream",
          "name": "stdout",
          "text": [
            "0.17453292519943295\n",
            "-0.0028797932657906437\n"
          ]
        }
      ]
    },
    {
      "cell_type": "code",
      "source": [
        "#math.remainder() =\tReturns the closest value that can make numerator completely divisible by the denominator (round of values)\n",
        "print (m.remainder(9, 2))\n",
        "print (m.remainder(9, 3))"
      ],
      "metadata": {
        "colab": {
          "base_uri": "https://localhost:8080/"
        },
        "id": "k6UIw1_PM8JT",
        "outputId": "7d86f618-e182-4c32-c9a8-11f565c7d5e6"
      },
      "execution_count": null,
      "outputs": [
        {
          "output_type": "stream",
          "name": "stdout",
          "text": [
            "1.0\n",
            "0.0\n"
          ]
        }
      ]
    },
    {
      "cell_type": "code",
      "source": [],
      "metadata": {
        "id": "3Cl9ncbENdl9"
      },
      "execution_count": null,
      "outputs": []
    }
  ]
}